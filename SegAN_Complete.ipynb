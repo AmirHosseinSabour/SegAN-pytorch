{
  "nbformat": 4,
  "nbformat_minor": 0,
  "metadata": {
    "kernelspec": {
      "display_name": "Python 3",
      "language": "python",
      "name": "python3"
    },
    "language_info": {
      "codemirror_mode": {
        "name": "ipython",
        "version": 3
      },
      "file_extension": ".py",
      "mimetype": "text/x-python",
      "name": "python",
      "nbconvert_exporter": "python",
      "pygments_lexer": "ipython3",
      "version": "3.6.10"
    },
    "colab": {
      "name": "SegAN_Complete.ipynb",
      "provenance": [],
      "collapsed_sections": [],
      "toc_visible": true
    },
    "accelerator": "GPU"
  },
  "cells": [
    {
      "cell_type": "code",
      "metadata": {
        "id": "ZRET2dbcwCbb",
        "colab_type": "code",
        "colab": {
          "base_uri": "https://localhost:8080/",
          "height": 102
        },
        "outputId": "0da4eb44-96ba-48f9-a4d0-98796797d207"
      },
      "source": [
        "pip install array2gif"
      ],
      "execution_count": 1,
      "outputs": [
        {
          "output_type": "stream",
          "text": [
            "Collecting array2gif\n",
            "  Downloading https://files.pythonhosted.org/packages/42/f4/4dd66a8b65738ea8f2739a48d0e1a79e6a77c0cfb4b35a890eb9792dc861/array2gif-1.0.4-py3-none-any.whl\n",
            "Requirement already satisfied: numpy in /usr/local/lib/python3.6/dist-packages (from array2gif) (1.18.5)\n",
            "Installing collected packages: array2gif\n",
            "Successfully installed array2gif-1.0.4\n"
          ],
          "name": "stdout"
        }
      ]
    },
    {
      "cell_type": "code",
      "metadata": {
        "id": "a6Jm-VQdlSY4",
        "colab_type": "code",
        "colab": {
          "base_uri": "https://localhost:8080/",
          "height": 357
        },
        "outputId": "6a1b7377-dddc-4f36-b4c8-f92ff0077e99"
      },
      "source": [
        "!pip install pyunpack\n",
        "!pip install patool"
      ],
      "execution_count": 2,
      "outputs": [
        {
          "output_type": "stream",
          "text": [
            "Collecting pyunpack\n",
            "  Downloading https://files.pythonhosted.org/packages/33/fd/4b64817a1d82df78553ceb1bfc5a2d7ac162da8667be586430fab9db5deb/pyunpack-0.2.1-py2.py3-none-any.whl\n",
            "Collecting entrypoint2\n",
            "  Downloading https://files.pythonhosted.org/packages/46/0a/6156f1bc14a44094cff75bb6ecefe1f8e8a12cfff66379ba3d52d0916c49/entrypoint2-0.2.1-py2.py3-none-any.whl\n",
            "Collecting easyprocess\n",
            "  Downloading https://files.pythonhosted.org/packages/48/3c/75573613641c90c6d094059ac28adb748560d99bd27ee6f80cce398f404e/EasyProcess-0.3-py2.py3-none-any.whl\n",
            "Collecting argparse\n",
            "  Downloading https://files.pythonhosted.org/packages/f2/94/3af39d34be01a24a6e65433d19e107099374224905f1e0cc6bbe1fd22a2f/argparse-1.4.0-py2.py3-none-any.whl\n",
            "Installing collected packages: argparse, entrypoint2, easyprocess, pyunpack\n",
            "Successfully installed argparse-1.4.0 easyprocess-0.3 entrypoint2-0.2.1 pyunpack-0.2.1\n"
          ],
          "name": "stdout"
        },
        {
          "output_type": "display_data",
          "data": {
            "application/vnd.colab-display-data+json": {
              "pip_warning": {
                "packages": [
                  "argparse"
                ]
              }
            }
          },
          "metadata": {
            "tags": []
          }
        },
        {
          "output_type": "stream",
          "text": [
            "Collecting patool\n",
            "\u001b[?25l  Downloading https://files.pythonhosted.org/packages/43/94/52243ddff508780dd2d8110964320ab4851134a55ab102285b46e740f76a/patool-1.12-py2.py3-none-any.whl (77kB)\n",
            "\r\u001b[K     |████▎                           | 10kB 21.0MB/s eta 0:00:01\r\u001b[K     |████████▌                       | 20kB 2.1MB/s eta 0:00:01\r\u001b[K     |████████████▊                   | 30kB 2.8MB/s eta 0:00:01\r\u001b[K     |█████████████████               | 40kB 3.1MB/s eta 0:00:01\r\u001b[K     |█████████████████████▏          | 51kB 2.5MB/s eta 0:00:01\r\u001b[K     |█████████████████████████▍      | 61kB 2.8MB/s eta 0:00:01\r\u001b[K     |█████████████████████████████▋  | 71kB 3.1MB/s eta 0:00:01\r\u001b[K     |████████████████████████████████| 81kB 2.6MB/s \n",
            "\u001b[?25hInstalling collected packages: patool\n",
            "Successfully installed patool-1.12\n"
          ],
          "name": "stdout"
        }
      ]
    },
    {
      "cell_type": "code",
      "metadata": {
        "id": "AArkjHe0urSJ",
        "colab_type": "code",
        "colab": {}
      },
      "source": [
        "import gzip\n",
        "import shutil\n",
        "import os\n",
        "import nibabel as nib\n",
        "from tifffile import imsave, imread\n",
        "import numpy as np\n",
        "import matplotlib.pyplot as plt\n",
        "import imageio\n",
        "from array2gif import write_gif\n",
        "from PIL import Image\n",
        "from torchvision import transforms, models\n",
        "import torch\n",
        "import torch.nn as nn\n",
        "import torch.nn.functional as F\n",
        "import torchvision.transforms.functional as TF\n",
        "from torch.utils.data import DataLoader, Dataset, random_split\n",
        "from sklearn.model_selection import train_test_split\n",
        "from torch.utils.data.sampler import SubsetRandomSampler\n",
        "from torch.utils.tensorboard import SummaryWriter\n",
        "import random\n",
        "import shutil\n",
        "%matplotlib inline\n"
      ],
      "execution_count": 3,
      "outputs": []
    },
    {
      "cell_type": "code",
      "metadata": {
        "id": "bkRQxOtyjvRb",
        "colab_type": "code",
        "colab": {
          "base_uri": "https://localhost:8080/",
          "height": 122
        },
        "outputId": "de1eaa6e-9497-467c-9631-8382f70b43a1"
      },
      "source": [
        "from google.colab import drive\n",
        "drive.mount('/content/drive')"
      ],
      "execution_count": 4,
      "outputs": [
        {
          "output_type": "stream",
          "text": [
            "Go to this URL in a browser: https://accounts.google.com/o/oauth2/auth?client_id=947318989803-6bn6qk8qdgf4n4g3pfee6491hc0brc4i.apps.googleusercontent.com&redirect_uri=urn%3aietf%3awg%3aoauth%3a2.0%3aoob&response_type=code&scope=email%20https%3a%2f%2fwww.googleapis.com%2fauth%2fdocs.test%20https%3a%2f%2fwww.googleapis.com%2fauth%2fdrive%20https%3a%2f%2fwww.googleapis.com%2fauth%2fdrive.photos.readonly%20https%3a%2f%2fwww.googleapis.com%2fauth%2fpeopleapi.readonly\n",
            "\n",
            "Enter your authorization code:\n",
            "··········\n",
            "Mounted at /content/drive\n"
          ],
          "name": "stdout"
        }
      ]
    },
    {
      "cell_type": "code",
      "metadata": {
        "id": "s6m5TuPhh6VJ",
        "colab_type": "code",
        "colab": {}
      },
      "source": [
        "# ONLY RUN THIS CELL IF THE DATA IS NOT AVAILABLE IN YOUR GOOGLE DRIVE\n",
        "#!wget https://www.cbica.upenn.edu/MICCAI_BraTS2020_TrainingData -P '/content/drive/My Drive'"
      ],
      "execution_count": 5,
      "outputs": []
    },
    {
      "cell_type": "code",
      "metadata": {
        "id": "yeLHH-d81JQQ",
        "colab_type": "code",
        "colab": {}
      },
      "source": [
        "from pyunpack import Archive\n",
        "Archive('/content/drive/My Drive/MICCAI_BraTS2020_TrainingData').extractall('/content')"
      ],
      "execution_count": 9,
      "outputs": []
    },
    {
      "cell_type": "code",
      "metadata": {
        "id": "c4k7x7OTlve6",
        "colab_type": "code",
        "colab": {}
      },
      "source": [
        "# delete unnecessary files\n",
        "os.remove('/content/MICCAI_BraTS2020_TrainingData/name_mapping.csv')\n",
        "os.remove('/content/MICCAI_BraTS2020_TrainingData/survival_info.csv')"
      ],
      "execution_count": 10,
      "outputs": []
    },
    {
      "cell_type": "code",
      "metadata": {
        "id": "0pWdiTmKurSO",
        "colab_type": "code",
        "colab": {
          "base_uri": "https://localhost:8080/",
          "height": 1000
        },
        "outputId": "6c967474-a970-4477-e2d5-9a1242dd38eb"
      },
      "source": [
        "# First create the dataset for the extracted file\n",
        "!python create_dataset.py"
      ],
      "execution_count": 11,
      "outputs": [
        {
          "output_type": "stream",
          "text": [
            "['BraTS20_Training_246_flair.nii.gz', 'BraTS20_Training_246_seg.nii.gz', 'BraTS20_Training_246_t1.nii.gz', 'BraTS20_Training_246_t1ce.nii.gz', 'BraTS20_Training_246_t2.nii.gz']\n",
            "['BraTS20_Training_278_flair.nii.gz', 'BraTS20_Training_278_seg.nii.gz', 'BraTS20_Training_278_t1.nii.gz', 'BraTS20_Training_278_t1ce.nii.gz', 'BraTS20_Training_278_t2.nii.gz']\n",
            "['BraTS20_Training_352_flair.nii.gz', 'BraTS20_Training_352_seg.nii.gz', 'BraTS20_Training_352_t1.nii.gz', 'BraTS20_Training_352_t1ce.nii.gz', 'BraTS20_Training_352_t2.nii.gz']\n",
            "['BraTS20_Training_174_flair.nii.gz', 'BraTS20_Training_174_seg.nii.gz', 'BraTS20_Training_174_t1.nii.gz', 'BraTS20_Training_174_t1ce.nii.gz', 'BraTS20_Training_174_t2.nii.gz']\n",
            "['BraTS20_Training_162_flair.nii.gz', 'BraTS20_Training_162_seg.nii.gz', 'BraTS20_Training_162_t1.nii.gz', 'BraTS20_Training_162_t1ce.nii.gz', 'BraTS20_Training_162_t2.nii.gz']\n",
            "['BraTS20_Training_236_flair.nii.gz', 'BraTS20_Training_236_seg.nii.gz', 'BraTS20_Training_236_t1.nii.gz', 'BraTS20_Training_236_t1ce.nii.gz', 'BraTS20_Training_236_t2.nii.gz']\n",
            "['BraTS20_Training_208_flair.nii.gz', 'BraTS20_Training_208_seg.nii.gz', 'BraTS20_Training_208_t1.nii.gz', 'BraTS20_Training_208_t1ce.nii.gz', 'BraTS20_Training_208_t2.nii.gz']\n",
            "['BraTS20_Training_135_flair.nii.gz', 'BraTS20_Training_135_seg.nii.gz', 'BraTS20_Training_135_t1.nii.gz', 'BraTS20_Training_135_t1ce.nii.gz', 'BraTS20_Training_135_t2.nii.gz']\n",
            "['BraTS20_Training_253_flair.nii.gz', 'BraTS20_Training_253_seg.nii.gz', 'BraTS20_Training_253_t1.nii.gz', 'BraTS20_Training_253_t1ce.nii.gz', 'BraTS20_Training_253_t2.nii.gz']\n",
            "['BraTS20_Training_071_flair.nii.gz', 'BraTS20_Training_071_seg.nii.gz', 'BraTS20_Training_071_t1.nii.gz', 'BraTS20_Training_071_t1ce.nii.gz', 'BraTS20_Training_071_t2.nii.gz']\n",
            "['BraTS20_Training_214_flair.nii.gz', 'BraTS20_Training_214_seg.nii.gz', 'BraTS20_Training_214_t1.nii.gz', 'BraTS20_Training_214_t1ce.nii.gz', 'BraTS20_Training_214_t2.nii.gz']\n",
            "['BraTS20_Training_058_flair.nii.gz', 'BraTS20_Training_058_seg.nii.gz', 'BraTS20_Training_058_t1.nii.gz', 'BraTS20_Training_058_t1ce.nii.gz', 'BraTS20_Training_058_t2.nii.gz']\n",
            "['BraTS20_Training_147_flair.nii.gz', 'BraTS20_Training_147_seg.nii.gz', 'BraTS20_Training_147_t1.nii.gz', 'BraTS20_Training_147_t1ce.nii.gz', 'BraTS20_Training_147_t2.nii.gz']\n",
            "['BraTS20_Training_028_flair.nii.gz', 'BraTS20_Training_028_seg.nii.gz', 'BraTS20_Training_028_t1.nii.gz', 'BraTS20_Training_028_t1ce.nii.gz', 'BraTS20_Training_028_t2.nii.gz']\n",
            "['BraTS20_Training_081_flair.nii.gz', 'BraTS20_Training_081_seg.nii.gz', 'BraTS20_Training_081_t1.nii.gz', 'BraTS20_Training_081_t1ce.nii.gz', 'BraTS20_Training_081_t2.nii.gz']\n",
            "['BraTS20_Training_102_flair.nii.gz', 'BraTS20_Training_102_seg.nii.gz', 'BraTS20_Training_102_t1.nii.gz', 'BraTS20_Training_102_t1ce.nii.gz', 'BraTS20_Training_102_t2.nii.gz']\n",
            "['BraTS20_Training_267_flair.nii.gz', 'BraTS20_Training_267_seg.nii.gz', 'BraTS20_Training_267_t1.nii.gz', 'BraTS20_Training_267_t1ce.nii.gz', 'BraTS20_Training_267_t2.nii.gz']\n",
            "['BraTS20_Training_219_flair.nii.gz', 'BraTS20_Training_219_seg.nii.gz', 'BraTS20_Training_219_t1.nii.gz', 'BraTS20_Training_219_t1ce.nii.gz', 'BraTS20_Training_219_t2.nii.gz']\n",
            "['BraTS20_Training_117_flair.nii.gz', 'BraTS20_Training_117_seg.nii.gz', 'BraTS20_Training_117_t1.nii.gz', 'BraTS20_Training_117_t1ce.nii.gz', 'BraTS20_Training_117_t2.nii.gz']\n",
            "['BraTS20_Training_195_flair.nii.gz', 'BraTS20_Training_195_seg.nii.gz', 'BraTS20_Training_195_t1.nii.gz', 'BraTS20_Training_195_t1ce.nii.gz', 'BraTS20_Training_195_t2.nii.gz']\n",
            "['BraTS20_Training_229_flair.nii.gz', 'BraTS20_Training_229_seg.nii.gz', 'BraTS20_Training_229_t1.nii.gz', 'BraTS20_Training_229_t1ce.nii.gz', 'BraTS20_Training_229_t2.nii.gz']\n",
            "['BraTS20_Training_340_flair.nii.gz', 'BraTS20_Training_340_seg.nii.gz', 'BraTS20_Training_340_t1.nii.gz', 'BraTS20_Training_340_t1ce.nii.gz', 'BraTS20_Training_340_t2.nii.gz']\n",
            "['BraTS20_Training_060_flair.nii.gz', 'BraTS20_Training_060_seg.nii.gz', 'BraTS20_Training_060_t1.nii.gz', 'BraTS20_Training_060_t1ce.nii.gz', 'BraTS20_Training_060_t2.nii.gz']\n",
            "['BraTS20_Training_084_flair.nii.gz', 'BraTS20_Training_084_seg.nii.gz', 'BraTS20_Training_084_t1.nii.gz', 'BraTS20_Training_084_t1ce.nii.gz', 'BraTS20_Training_084_t2.nii.gz']\n",
            "['BraTS20_Training_178_flair.nii.gz', 'BraTS20_Training_178_seg.nii.gz', 'BraTS20_Training_178_t1.nii.gz', 'BraTS20_Training_178_t1ce.nii.gz', 'BraTS20_Training_178_t2.nii.gz']\n",
            "['BraTS20_Training_053_flair.nii.gz', 'BraTS20_Training_053_seg.nii.gz', 'BraTS20_Training_053_t1.nii.gz', 'BraTS20_Training_053_t1ce.nii.gz', 'BraTS20_Training_053_t2.nii.gz']\n",
            "['BraTS20_Training_119_flair.nii.gz', 'BraTS20_Training_119_seg.nii.gz', 'BraTS20_Training_119_t1.nii.gz', 'BraTS20_Training_119_t1ce.nii.gz', 'BraTS20_Training_119_t2.nii.gz']\n",
            "['BraTS20_Training_290_flair.nii.gz', 'BraTS20_Training_290_seg.nii.gz', 'BraTS20_Training_290_t1.nii.gz', 'BraTS20_Training_290_t1ce.nii.gz', 'BraTS20_Training_290_t2.nii.gz']\n",
            "['BraTS20_Training_270_flair.nii.gz', 'BraTS20_Training_270_seg.nii.gz', 'BraTS20_Training_270_t1.nii.gz', 'BraTS20_Training_270_t1ce.nii.gz', 'BraTS20_Training_270_t2.nii.gz']\n",
            "['BraTS20_Training_296_flair.nii.gz', 'BraTS20_Training_296_seg.nii.gz', 'BraTS20_Training_296_t1.nii.gz', 'BraTS20_Training_296_t1ce.nii.gz', 'BraTS20_Training_296_t2.nii.gz']\n",
            "['BraTS20_Training_047_flair.nii.gz', 'BraTS20_Training_047_seg.nii.gz', 'BraTS20_Training_047_t1.nii.gz', 'BraTS20_Training_047_t1ce.nii.gz', 'BraTS20_Training_047_t2.nii.gz']\n",
            "['BraTS20_Training_124_flair.nii.gz', 'BraTS20_Training_124_seg.nii.gz', 'BraTS20_Training_124_t1.nii.gz', 'BraTS20_Training_124_t1ce.nii.gz', 'BraTS20_Training_124_t2.nii.gz']\n",
            "['BraTS20_Training_311_flair.nii.gz', 'BraTS20_Training_311_seg.nii.gz', 'BraTS20_Training_311_t1.nii.gz', 'BraTS20_Training_311_t1ce.nii.gz', 'BraTS20_Training_311_t2.nii.gz']\n",
            "['BraTS20_Training_294_flair.nii.gz', 'BraTS20_Training_294_seg.nii.gz', 'BraTS20_Training_294_t1.nii.gz', 'BraTS20_Training_294_t1ce.nii.gz', 'BraTS20_Training_294_t2.nii.gz']\n",
            "['BraTS20_Training_107_flair.nii.gz', 'BraTS20_Training_107_seg.nii.gz', 'BraTS20_Training_107_t1.nii.gz', 'BraTS20_Training_107_t1ce.nii.gz', 'BraTS20_Training_107_t2.nii.gz']\n",
            "['BraTS20_Training_233_flair.nii.gz', 'BraTS20_Training_233_seg.nii.gz', 'BraTS20_Training_233_t1.nii.gz', 'BraTS20_Training_233_t1ce.nii.gz', 'BraTS20_Training_233_t2.nii.gz']\n",
            "['BraTS20_Training_283_flair.nii.gz', 'BraTS20_Training_283_seg.nii.gz', 'BraTS20_Training_283_t1.nii.gz', 'BraTS20_Training_283_t1ce.nii.gz', 'BraTS20_Training_283_t2.nii.gz']\n",
            "['BraTS20_Training_346_flair.nii.gz', 'BraTS20_Training_346_seg.nii.gz', 'BraTS20_Training_346_t1.nii.gz', 'BraTS20_Training_346_t1ce.nii.gz', 'BraTS20_Training_346_t2.nii.gz']\n",
            "['BraTS20_Training_287_flair.nii.gz', 'BraTS20_Training_287_seg.nii.gz', 'BraTS20_Training_287_t1.nii.gz', 'BraTS20_Training_287_t1ce.nii.gz', 'BraTS20_Training_287_t2.nii.gz']\n",
            "['BraTS20_Training_190_flair.nii.gz', 'BraTS20_Training_190_seg.nii.gz', 'BraTS20_Training_190_t1.nii.gz', 'BraTS20_Training_190_t1ce.nii.gz', 'BraTS20_Training_190_t2.nii.gz']\n",
            "['BraTS20_Training_078_flair.nii.gz', 'BraTS20_Training_078_seg.nii.gz', 'BraTS20_Training_078_t1.nii.gz', 'BraTS20_Training_078_t1ce.nii.gz', 'BraTS20_Training_078_t2.nii.gz']\n",
            "['BraTS20_Training_061_flair.nii.gz', 'BraTS20_Training_061_seg.nii.gz', 'BraTS20_Training_061_t1.nii.gz', 'BraTS20_Training_061_t1ce.nii.gz', 'BraTS20_Training_061_t2.nii.gz']\n",
            "['BraTS20_Training_096_flair.nii.gz', 'BraTS20_Training_096_seg.nii.gz', 'BraTS20_Training_096_t1.nii.gz', 'BraTS20_Training_096_t1ce.nii.gz', 'BraTS20_Training_096_t2.nii.gz']\n",
            "['BraTS20_Training_041_flair.nii.gz', 'BraTS20_Training_041_seg.nii.gz', 'BraTS20_Training_041_t1.nii.gz', 'BraTS20_Training_041_t1ce.nii.gz', 'BraTS20_Training_041_t2.nii.gz']\n",
            "['BraTS20_Training_062_flair.nii.gz', 'BraTS20_Training_062_seg.nii.gz', 'BraTS20_Training_062_t1.nii.gz', 'BraTS20_Training_062_t1ce.nii.gz', 'BraTS20_Training_062_t2.nii.gz']\n",
            "['BraTS20_Training_146_flair.nii.gz', 'BraTS20_Training_146_seg.nii.gz', 'BraTS20_Training_146_t1.nii.gz', 'BraTS20_Training_146_t1ce.nii.gz', 'BraTS20_Training_146_t2.nii.gz']\n",
            "['BraTS20_Training_284_flair.nii.gz', 'BraTS20_Training_284_seg.nii.gz', 'BraTS20_Training_284_t1.nii.gz', 'BraTS20_Training_284_t1ce.nii.gz', 'BraTS20_Training_284_t2.nii.gz']\n",
            "['BraTS20_Training_008_flair.nii.gz', 'BraTS20_Training_008_seg.nii.gz', 'BraTS20_Training_008_t1.nii.gz', 'BraTS20_Training_008_t1ce.nii.gz', 'BraTS20_Training_008_t2.nii.gz']\n",
            "['BraTS20_Training_005_flair.nii.gz', 'BraTS20_Training_005_seg.nii.gz', 'BraTS20_Training_005_t1.nii.gz', 'BraTS20_Training_005_t1ce.nii.gz', 'BraTS20_Training_005_t2.nii.gz']\n",
            "['BraTS20_Training_297_flair.nii.gz', 'BraTS20_Training_297_seg.nii.gz', 'BraTS20_Training_297_t1.nii.gz', 'BraTS20_Training_297_t1ce.nii.gz', 'BraTS20_Training_297_t2.nii.gz']\n",
            "['BraTS20_Training_303_flair.nii.gz', 'BraTS20_Training_303_seg.nii.gz', 'BraTS20_Training_303_t1.nii.gz', 'BraTS20_Training_303_t1ce.nii.gz', 'BraTS20_Training_303_t2.nii.gz']\n",
            "['BraTS20_Training_171_flair.nii.gz', 'BraTS20_Training_171_seg.nii.gz', 'BraTS20_Training_171_t1.nii.gz', 'BraTS20_Training_171_t1ce.nii.gz', 'BraTS20_Training_171_t2.nii.gz']\n",
            "['BraTS20_Training_367_flair.nii.gz', 'BraTS20_Training_367_seg.nii.gz', 'BraTS20_Training_367_t1.nii.gz', 'BraTS20_Training_367_t1ce.nii.gz', 'BraTS20_Training_367_t2.nii.gz']\n",
            "['BraTS20_Training_230_flair.nii.gz', 'BraTS20_Training_230_seg.nii.gz', 'BraTS20_Training_230_t1.nii.gz', 'BraTS20_Training_230_t1ce.nii.gz', 'BraTS20_Training_230_t2.nii.gz']\n",
            "['BraTS20_Training_254_flair.nii.gz', 'BraTS20_Training_254_seg.nii.gz', 'BraTS20_Training_254_t1.nii.gz', 'BraTS20_Training_254_t1ce.nii.gz', 'BraTS20_Training_254_t2.nii.gz']\n",
            "['BraTS20_Training_258_flair.nii.gz', 'BraTS20_Training_258_seg.nii.gz', 'BraTS20_Training_258_t1.nii.gz', 'BraTS20_Training_258_t1ce.nii.gz', 'BraTS20_Training_258_t2.nii.gz']\n",
            "['BraTS20_Training_183_flair.nii.gz', 'BraTS20_Training_183_seg.nii.gz', 'BraTS20_Training_183_t1.nii.gz', 'BraTS20_Training_183_t1ce.nii.gz', 'BraTS20_Training_183_t2.nii.gz']\n",
            "['BraTS20_Training_368_flair.nii.gz', 'BraTS20_Training_368_seg.nii.gz', 'BraTS20_Training_368_t1.nii.gz', 'BraTS20_Training_368_t1ce.nii.gz', 'BraTS20_Training_368_t2.nii.gz']\n",
            "['BraTS20_Training_256_flair.nii.gz', 'BraTS20_Training_256_seg.nii.gz', 'BraTS20_Training_256_t1.nii.gz', 'BraTS20_Training_256_t1ce.nii.gz', 'BraTS20_Training_256_t2.nii.gz']\n",
            "['BraTS20_Training_075_flair.nii.gz', 'BraTS20_Training_075_seg.nii.gz', 'BraTS20_Training_075_t1.nii.gz', 'BraTS20_Training_075_t1ce.nii.gz', 'BraTS20_Training_075_t2.nii.gz']\n",
            "['BraTS20_Training_057_flair.nii.gz', 'BraTS20_Training_057_seg.nii.gz', 'BraTS20_Training_057_t1.nii.gz', 'BraTS20_Training_057_t1ce.nii.gz', 'BraTS20_Training_057_t2.nii.gz']\n",
            "['BraTS20_Training_130_flair.nii.gz', 'BraTS20_Training_130_seg.nii.gz', 'BraTS20_Training_130_t1.nii.gz', 'BraTS20_Training_130_t1ce.nii.gz', 'BraTS20_Training_130_t2.nii.gz']\n",
            "['BraTS20_Training_298_flair.nii.gz', 'BraTS20_Training_298_seg.nii.gz', 'BraTS20_Training_298_t1.nii.gz', 'BraTS20_Training_298_t1ce.nii.gz', 'BraTS20_Training_298_t2.nii.gz']\n",
            "['BraTS20_Training_187_flair.nii.gz', 'BraTS20_Training_187_seg.nii.gz', 'BraTS20_Training_187_t1.nii.gz', 'BraTS20_Training_187_t1ce.nii.gz', 'BraTS20_Training_187_t2.nii.gz']\n",
            "['BraTS20_Training_099_flair.nii.gz', 'BraTS20_Training_099_seg.nii.gz', 'BraTS20_Training_099_t1.nii.gz', 'BraTS20_Training_099_t1ce.nii.gz', 'BraTS20_Training_099_t2.nii.gz']\n",
            "['BraTS20_Training_197_flair.nii.gz', 'BraTS20_Training_197_seg.nii.gz', 'BraTS20_Training_197_t1.nii.gz', 'BraTS20_Training_197_t1ce.nii.gz', 'BraTS20_Training_197_t2.nii.gz']\n",
            "['BraTS20_Training_143_flair.nii.gz', 'BraTS20_Training_143_seg.nii.gz', 'BraTS20_Training_143_t1.nii.gz', 'BraTS20_Training_143_t1ce.nii.gz', 'BraTS20_Training_143_t2.nii.gz']\n",
            "['BraTS20_Training_052_flair.nii.gz', 'BraTS20_Training_052_seg.nii.gz', 'BraTS20_Training_052_t1.nii.gz', 'BraTS20_Training_052_t1ce.nii.gz', 'BraTS20_Training_052_t2.nii.gz']\n",
            "['BraTS20_Training_131_flair.nii.gz', 'BraTS20_Training_131_seg.nii.gz', 'BraTS20_Training_131_t1.nii.gz', 'BraTS20_Training_131_t1ce.nii.gz', 'BraTS20_Training_131_t2.nii.gz']\n",
            "['BraTS20_Training_019_flair.nii.gz', 'BraTS20_Training_019_seg.nii.gz', 'BraTS20_Training_019_t1.nii.gz', 'BraTS20_Training_019_t1ce.nii.gz', 'BraTS20_Training_019_t2.nii.gz']\n",
            "['BraTS20_Training_317_flair.nii.gz', 'BraTS20_Training_317_seg.nii.gz', 'BraTS20_Training_317_t1.nii.gz', 'BraTS20_Training_317_t1ce.nii.gz', 'BraTS20_Training_317_t2.nii.gz']\n",
            "['BraTS20_Training_172_flair.nii.gz', 'BraTS20_Training_172_seg.nii.gz', 'BraTS20_Training_172_t1.nii.gz', 'BraTS20_Training_172_t1ce.nii.gz', 'BraTS20_Training_172_t2.nii.gz']\n",
            "['BraTS20_Training_153_flair.nii.gz', 'BraTS20_Training_153_seg.nii.gz', 'BraTS20_Training_153_t1.nii.gz', 'BraTS20_Training_153_t1ce.nii.gz', 'BraTS20_Training_153_t2.nii.gz']\n",
            "['BraTS20_Training_205_flair.nii.gz', 'BraTS20_Training_205_seg.nii.gz', 'BraTS20_Training_205_t1.nii.gz', 'BraTS20_Training_205_t1ce.nii.gz', 'BraTS20_Training_205_t2.nii.gz']\n",
            "['BraTS20_Training_073_flair.nii.gz', 'BraTS20_Training_073_seg.nii.gz', 'BraTS20_Training_073_t1.nii.gz', 'BraTS20_Training_073_t1ce.nii.gz', 'BraTS20_Training_073_t2.nii.gz']\n",
            "['BraTS20_Training_338_flair.nii.gz', 'BraTS20_Training_338_seg.nii.gz', 'BraTS20_Training_338_t1.nii.gz', 'BraTS20_Training_338_t1ce.nii.gz', 'BraTS20_Training_338_t2.nii.gz']\n",
            "['BraTS20_Training_310_flair.nii.gz', 'BraTS20_Training_310_seg.nii.gz', 'BraTS20_Training_310_t1.nii.gz', 'BraTS20_Training_310_t1ce.nii.gz', 'BraTS20_Training_310_t2.nii.gz']\n",
            "['BraTS20_Training_264_flair.nii.gz', 'BraTS20_Training_264_seg.nii.gz', 'BraTS20_Training_264_t1.nii.gz', 'BraTS20_Training_264_t1ce.nii.gz', 'BraTS20_Training_264_t2.nii.gz']\n",
            "['BraTS20_Training_196_flair.nii.gz', 'BraTS20_Training_196_seg.nii.gz', 'BraTS20_Training_196_t1.nii.gz', 'BraTS20_Training_196_t1ce.nii.gz', 'BraTS20_Training_196_t2.nii.gz']\n",
            "['BraTS20_Training_273_flair.nii.gz', 'BraTS20_Training_273_seg.nii.gz', 'BraTS20_Training_273_t1.nii.gz', 'BraTS20_Training_273_t1ce.nii.gz', 'BraTS20_Training_273_t2.nii.gz']\n",
            "['BraTS20_Training_355_flair.nii.gz', 'BraTS20_Training_355_seg.nii.gz', 'BraTS20_Training_355_t1.nii.gz', 'BraTS20_Training_355_t1ce.nii.gz', 'BraTS20_Training_355_t2.nii.gz']\n",
            "['BraTS20_Training_279_flair.nii.gz', 'BraTS20_Training_279_seg.nii.gz', 'BraTS20_Training_279_t1.nii.gz', 'BraTS20_Training_279_t1ce.nii.gz', 'BraTS20_Training_279_t2.nii.gz']\n",
            "['BraTS20_Training_113_flair.nii.gz', 'BraTS20_Training_113_seg.nii.gz', 'BraTS20_Training_113_t1.nii.gz', 'BraTS20_Training_113_t1ce.nii.gz', 'BraTS20_Training_113_t2.nii.gz']\n",
            "['BraTS20_Training_319_flair.nii.gz', 'BraTS20_Training_319_seg.nii.gz', 'BraTS20_Training_319_t1.nii.gz', 'BraTS20_Training_319_t1ce.nii.gz', 'BraTS20_Training_319_t2.nii.gz']\n",
            "['BraTS20_Training_295_flair.nii.gz', 'BraTS20_Training_295_seg.nii.gz', 'BraTS20_Training_295_t1.nii.gz', 'BraTS20_Training_295_t1ce.nii.gz', 'BraTS20_Training_295_t2.nii.gz']\n",
            "['BraTS20_Training_358_flair.nii.gz', 'BraTS20_Training_358_seg.nii.gz', 'BraTS20_Training_358_t1.nii.gz', 'BraTS20_Training_358_t1ce.nii.gz', 'BraTS20_Training_358_t2.nii.gz']\n",
            "['BraTS20_Training_321_flair.nii.gz', 'BraTS20_Training_321_seg.nii.gz', 'BraTS20_Training_321_t1.nii.gz', 'BraTS20_Training_321_t1ce.nii.gz', 'BraTS20_Training_321_t2.nii.gz']\n",
            "['BraTS20_Training_017_flair.nii.gz', 'BraTS20_Training_017_seg.nii.gz', 'BraTS20_Training_017_t1.nii.gz', 'BraTS20_Training_017_t1ce.nii.gz', 'BraTS20_Training_017_t2.nii.gz']\n",
            "['BraTS20_Training_049_flair.nii.gz', 'BraTS20_Training_049_seg.nii.gz', 'BraTS20_Training_049_t1.nii.gz', 'BraTS20_Training_049_t1ce.nii.gz', 'BraTS20_Training_049_t2.nii.gz']\n",
            "['BraTS20_Training_091_flair.nii.gz', 'BraTS20_Training_091_seg.nii.gz', 'BraTS20_Training_091_t1.nii.gz', 'BraTS20_Training_091_t1ce.nii.gz', 'BraTS20_Training_091_t2.nii.gz']\n",
            "['BraTS20_Training_318_flair.nii.gz', 'BraTS20_Training_318_seg.nii.gz', 'BraTS20_Training_318_t1.nii.gz', 'BraTS20_Training_318_t1ce.nii.gz', 'BraTS20_Training_318_t2.nii.gz']\n",
            "['BraTS20_Training_032_flair.nii.gz', 'BraTS20_Training_032_seg.nii.gz', 'BraTS20_Training_032_t1.nii.gz', 'BraTS20_Training_032_t1ce.nii.gz', 'BraTS20_Training_032_t2.nii.gz']\n",
            "['BraTS20_Training_003_flair.nii.gz', 'BraTS20_Training_003_seg.nii.gz', 'BraTS20_Training_003_t1.nii.gz', 'BraTS20_Training_003_t1ce.nii.gz', 'BraTS20_Training_003_t2.nii.gz']\n",
            "['BraTS20_Training_345_flair.nii.gz', 'BraTS20_Training_345_seg.nii.gz', 'BraTS20_Training_345_t1.nii.gz', 'BraTS20_Training_345_t1ce.nii.gz', 'BraTS20_Training_345_t2.nii.gz']\n",
            "['BraTS20_Training_134_flair.nii.gz', 'BraTS20_Training_134_seg.nii.gz', 'BraTS20_Training_134_t1.nii.gz', 'BraTS20_Training_134_t1ce.nii.gz', 'BraTS20_Training_134_t2.nii.gz']\n",
            "['BraTS20_Training_188_flair.nii.gz', 'BraTS20_Training_188_seg.nii.gz', 'BraTS20_Training_188_t1.nii.gz', 'BraTS20_Training_188_t1ce.nii.gz', 'BraTS20_Training_188_t2.nii.gz']\n",
            "['BraTS20_Training_138_flair.nii.gz', 'BraTS20_Training_138_seg.nii.gz', 'BraTS20_Training_138_t1.nii.gz', 'BraTS20_Training_138_t1ce.nii.gz', 'BraTS20_Training_138_t2.nii.gz']\n",
            "['BraTS20_Training_011_flair.nii.gz', 'BraTS20_Training_011_seg.nii.gz', 'BraTS20_Training_011_t1.nii.gz', 'BraTS20_Training_011_t1ce.nii.gz', 'BraTS20_Training_011_t2.nii.gz']\n",
            "['BraTS20_Training_334_flair.nii.gz', 'BraTS20_Training_334_seg.nii.gz', 'BraTS20_Training_334_t1.nii.gz', 'BraTS20_Training_334_t1ce.nii.gz', 'BraTS20_Training_334_t2.nii.gz']\n",
            "['BraTS20_Training_148_flair.nii.gz', 'BraTS20_Training_148_seg.nii.gz', 'BraTS20_Training_148_t1.nii.gz', 'BraTS20_Training_148_t1ce.nii.gz', 'BraTS20_Training_148_t2.nii.gz']\n",
            "['BraTS20_Training_031_flair.nii.gz', 'BraTS20_Training_031_seg.nii.gz', 'BraTS20_Training_031_t1.nii.gz', 'BraTS20_Training_031_t1ce.nii.gz', 'BraTS20_Training_031_t2.nii.gz']\n",
            "['BraTS20_Training_324_flair.nii.gz', 'BraTS20_Training_324_seg.nii.gz', 'BraTS20_Training_324_t1.nii.gz', 'BraTS20_Training_324_t1ce.nii.gz', 'BraTS20_Training_324_t2.nii.gz']\n",
            "['BraTS20_Training_289_flair.nii.gz', 'BraTS20_Training_289_seg.nii.gz', 'BraTS20_Training_289_t1.nii.gz', 'BraTS20_Training_289_t1ce.nii.gz', 'BraTS20_Training_289_t2.nii.gz']\n",
            "['BraTS20_Training_304_flair.nii.gz', 'BraTS20_Training_304_seg.nii.gz', 'BraTS20_Training_304_t1.nii.gz', 'BraTS20_Training_304_t1ce.nii.gz', 'BraTS20_Training_304_t2.nii.gz']\n",
            "['BraTS20_Training_271_flair.nii.gz', 'BraTS20_Training_271_seg.nii.gz', 'BraTS20_Training_271_t1.nii.gz', 'BraTS20_Training_271_t1ce.nii.gz', 'BraTS20_Training_271_t2.nii.gz']\n",
            "['BraTS20_Training_141_flair.nii.gz', 'BraTS20_Training_141_seg.nii.gz', 'BraTS20_Training_141_t1.nii.gz', 'BraTS20_Training_141_t1ce.nii.gz', 'BraTS20_Training_141_t2.nii.gz']\n",
            "['BraTS20_Training_356_flair.nii.gz', 'BraTS20_Training_356_seg.nii.gz', 'BraTS20_Training_356_t1.nii.gz', 'BraTS20_Training_356_t1ce.nii.gz', 'BraTS20_Training_356_t2.nii.gz']\n",
            "['BraTS20_Training_305_flair.nii.gz', 'BraTS20_Training_305_seg.nii.gz', 'BraTS20_Training_305_t1.nii.gz', 'BraTS20_Training_305_t1ce.nii.gz', 'BraTS20_Training_305_t2.nii.gz']\n",
            "['BraTS20_Training_331_flair.nii.gz', 'BraTS20_Training_331_seg.nii.gz', 'BraTS20_Training_331_t1.nii.gz', 'BraTS20_Training_331_t1ce.nii.gz', 'BraTS20_Training_331_t2.nii.gz']\n",
            "['BraTS20_Training_365_flair.nii.gz', 'BraTS20_Training_365_seg.nii.gz', 'BraTS20_Training_365_t1.nii.gz', 'BraTS20_Training_365_t1ce.nii.gz', 'BraTS20_Training_365_t2.nii.gz']\n",
            "['BraTS20_Training_282_flair.nii.gz', 'BraTS20_Training_282_seg.nii.gz', 'BraTS20_Training_282_t1.nii.gz', 'BraTS20_Training_282_t1ce.nii.gz', 'BraTS20_Training_282_t2.nii.gz']\n",
            "['BraTS20_Training_281_flair.nii.gz', 'BraTS20_Training_281_seg.nii.gz', 'BraTS20_Training_281_t1.nii.gz', 'BraTS20_Training_281_t1ce.nii.gz', 'BraTS20_Training_281_t2.nii.gz']\n",
            "['BraTS20_Training_285_flair.nii.gz', 'BraTS20_Training_285_seg.nii.gz', 'BraTS20_Training_285_t1.nii.gz', 'BraTS20_Training_285_t1ce.nii.gz', 'BraTS20_Training_285_t2.nii.gz']\n",
            "['BraTS20_Training_155_flair.nii.gz', 'BraTS20_Training_155_seg.nii.gz', 'BraTS20_Training_155_t1.nii.gz', 'BraTS20_Training_155_t1ce.nii.gz', 'BraTS20_Training_155_t2.nii.gz']\n",
            "['BraTS20_Training_209_flair.nii.gz', 'BraTS20_Training_209_seg.nii.gz', 'BraTS20_Training_209_t1.nii.gz', 'BraTS20_Training_209_t1ce.nii.gz', 'BraTS20_Training_209_t2.nii.gz']\n",
            "['BraTS20_Training_328_flair.nii.gz', 'BraTS20_Training_328_seg.nii.gz', 'BraTS20_Training_328_t1.nii.gz', 'BraTS20_Training_328_t1ce.nii.gz', 'BraTS20_Training_328_t2.nii.gz']\n",
            "['BraTS20_Training_222_flair.nii.gz', 'BraTS20_Training_222_seg.nii.gz', 'BraTS20_Training_222_t1.nii.gz', 'BraTS20_Training_222_t1ce.nii.gz', 'BraTS20_Training_222_t2.nii.gz']\n",
            "['BraTS20_Training_240_flair.nii.gz', 'BraTS20_Training_240_seg.nii.gz', 'BraTS20_Training_240_t1.nii.gz', 'BraTS20_Training_240_t1ce.nii.gz', 'BraTS20_Training_240_t2.nii.gz']\n",
            "['BraTS20_Training_013_flair.nii.gz', 'BraTS20_Training_013_seg.nii.gz', 'BraTS20_Training_013_t1.nii.gz', 'BraTS20_Training_013_t1ce.nii.gz', 'BraTS20_Training_013_t2.nii.gz']\n",
            "['BraTS20_Training_111_flair.nii.gz', 'BraTS20_Training_111_seg.nii.gz', 'BraTS20_Training_111_t1.nii.gz', 'BraTS20_Training_111_t1ce.nii.gz', 'BraTS20_Training_111_t2.nii.gz']\n",
            "['BraTS20_Training_126_flair.nii.gz', 'BraTS20_Training_126_seg.nii.gz', 'BraTS20_Training_126_t1.nii.gz', 'BraTS20_Training_126_t1ce.nii.gz', 'BraTS20_Training_126_t2.nii.gz']\n",
            "['BraTS20_Training_223_flair.nii.gz', 'BraTS20_Training_223_seg.nii.gz', 'BraTS20_Training_223_t1.nii.gz', 'BraTS20_Training_223_t1ce.nii.gz', 'BraTS20_Training_223_t2.nii.gz']\n",
            "['BraTS20_Training_291_flair.nii.gz', 'BraTS20_Training_291_seg.nii.gz', 'BraTS20_Training_291_t1.nii.gz', 'BraTS20_Training_291_t1ce.nii.gz', 'BraTS20_Training_291_t2.nii.gz']\n",
            "['BraTS20_Training_151_flair.nii.gz', 'BraTS20_Training_151_seg.nii.gz', 'BraTS20_Training_151_t1.nii.gz', 'BraTS20_Training_151_t1ce.nii.gz', 'BraTS20_Training_151_t2.nii.gz']\n",
            "['BraTS20_Training_029_flair.nii.gz', 'BraTS20_Training_029_seg.nii.gz', 'BraTS20_Training_029_t1.nii.gz', 'BraTS20_Training_029_t1ce.nii.gz', 'BraTS20_Training_029_t2.nii.gz']\n",
            "['BraTS20_Training_006_flair.nii.gz', 'BraTS20_Training_006_seg.nii.gz', 'BraTS20_Training_006_t1.nii.gz', 'BraTS20_Training_006_t1ce.nii.gz', 'BraTS20_Training_006_t2.nii.gz']\n",
            "['BraTS20_Training_154_flair.nii.gz', 'BraTS20_Training_154_seg.nii.gz', 'BraTS20_Training_154_t1.nii.gz', 'BraTS20_Training_154_t1ce.nii.gz', 'BraTS20_Training_154_t2.nii.gz']\n",
            "['BraTS20_Training_280_flair.nii.gz', 'BraTS20_Training_280_seg.nii.gz', 'BraTS20_Training_280_t1.nii.gz', 'BraTS20_Training_280_t1ce.nii.gz', 'BraTS20_Training_280_t2.nii.gz']\n",
            "['BraTS20_Training_193_flair.nii.gz', 'BraTS20_Training_193_seg.nii.gz', 'BraTS20_Training_193_t1.nii.gz', 'BraTS20_Training_193_t1ce.nii.gz', 'BraTS20_Training_193_t2.nii.gz']\n",
            "['BraTS20_Training_344_flair.nii.gz', 'BraTS20_Training_344_seg.nii.gz', 'BraTS20_Training_344_t1.nii.gz', 'BraTS20_Training_344_t1ce.nii.gz', 'BraTS20_Training_344_t2.nii.gz']\n",
            "['BraTS20_Training_349_flair.nii.gz', 'BraTS20_Training_349_seg.nii.gz', 'BraTS20_Training_349_t1.nii.gz', 'BraTS20_Training_349_t1ce.nii.gz', 'BraTS20_Training_349_t2.nii.gz']\n",
            "['BraTS20_Training_016_flair.nii.gz', 'BraTS20_Training_016_seg.nii.gz', 'BraTS20_Training_016_t1.nii.gz', 'BraTS20_Training_016_t1ce.nii.gz', 'BraTS20_Training_016_t2.nii.gz']\n",
            "['BraTS20_Training_034_flair.nii.gz', 'BraTS20_Training_034_seg.nii.gz', 'BraTS20_Training_034_t1.nii.gz', 'BraTS20_Training_034_t1ce.nii.gz', 'BraTS20_Training_034_t2.nii.gz']\n",
            "['BraTS20_Training_137_flair.nii.gz', 'BraTS20_Training_137_seg.nii.gz', 'BraTS20_Training_137_t1.nii.gz', 'BraTS20_Training_137_t1ce.nii.gz', 'BraTS20_Training_137_t2.nii.gz']\n",
            "['BraTS20_Training_139_flair.nii.gz', 'BraTS20_Training_139_seg.nii.gz', 'BraTS20_Training_139_t1.nii.gz', 'BraTS20_Training_139_t1ce.nii.gz', 'BraTS20_Training_139_t2.nii.gz']\n",
            "['BraTS20_Training_156_flair.nii.gz', 'BraTS20_Training_156_seg.nii.gz', 'BraTS20_Training_156_t1.nii.gz', 'BraTS20_Training_156_t1ce.nii.gz', 'BraTS20_Training_156_t2.nii.gz']\n",
            "['BraTS20_Training_292_flair.nii.gz', 'BraTS20_Training_292_seg.nii.gz', 'BraTS20_Training_292_t1.nii.gz', 'BraTS20_Training_292_t1ce.nii.gz', 'BraTS20_Training_292_t2.nii.gz']\n",
            "['BraTS20_Training_241_flair.nii.gz', 'BraTS20_Training_241_seg.nii.gz', 'BraTS20_Training_241_t1.nii.gz', 'BraTS20_Training_241_t1ce.nii.gz', 'BraTS20_Training_241_t2.nii.gz']\n",
            "['BraTS20_Training_048_flair.nii.gz', 'BraTS20_Training_048_seg.nii.gz', 'BraTS20_Training_048_t1.nii.gz', 'BraTS20_Training_048_t1ce.nii.gz', 'BraTS20_Training_048_t2.nii.gz']\n",
            "['BraTS20_Training_149_flair.nii.gz', 'BraTS20_Training_149_seg.nii.gz', 'BraTS20_Training_149_t1.nii.gz', 'BraTS20_Training_149_t1ce.nii.gz', 'BraTS20_Training_149_t2.nii.gz']\n",
            "['BraTS20_Training_313_flair.nii.gz', 'BraTS20_Training_313_seg.nii.gz', 'BraTS20_Training_313_t1.nii.gz', 'BraTS20_Training_313_t1ce.nii.gz', 'BraTS20_Training_313_t2.nii.gz']\n",
            "['BraTS20_Training_243_flair.nii.gz', 'BraTS20_Training_243_seg.nii.gz', 'BraTS20_Training_243_t1.nii.gz', 'BraTS20_Training_243_t1ce.nii.gz', 'BraTS20_Training_243_t2.nii.gz']\n",
            "['BraTS20_Training_181_flair.nii.gz', 'BraTS20_Training_181_seg.nii.gz', 'BraTS20_Training_181_t1.nii.gz', 'BraTS20_Training_181_t1ce.nii.gz', 'BraTS20_Training_181_t2.nii.gz']\n",
            "['BraTS20_Training_351_flair.nii.gz', 'BraTS20_Training_351_seg.nii.gz', 'BraTS20_Training_351_t1.nii.gz', 'BraTS20_Training_351_t1ce.nii.gz', 'BraTS20_Training_351_t2.nii.gz']\n",
            "['BraTS20_Training_045_flair.nii.gz', 'BraTS20_Training_045_seg.nii.gz', 'BraTS20_Training_045_t1.nii.gz', 'BraTS20_Training_045_t1ce.nii.gz', 'BraTS20_Training_045_t2.nii.gz']\n",
            "['BraTS20_Training_027_flair.nii.gz', 'BraTS20_Training_027_seg.nii.gz', 'BraTS20_Training_027_t1.nii.gz', 'BraTS20_Training_027_t1ce.nii.gz', 'BraTS20_Training_027_t2.nii.gz']\n",
            "['BraTS20_Training_216_flair.nii.gz', 'BraTS20_Training_216_seg.nii.gz', 'BraTS20_Training_216_t1.nii.gz', 'BraTS20_Training_216_t1ce.nii.gz', 'BraTS20_Training_216_t2.nii.gz']\n",
            "['BraTS20_Training_163_flair.nii.gz', 'BraTS20_Training_163_seg.nii.gz', 'BraTS20_Training_163_t1.nii.gz', 'BraTS20_Training_163_t1ce.nii.gz', 'BraTS20_Training_163_t2.nii.gz']\n",
            "['BraTS20_Training_245_flair.nii.gz', 'BraTS20_Training_245_seg.nii.gz', 'BraTS20_Training_245_t1.nii.gz', 'BraTS20_Training_245_t1ce.nii.gz', 'BraTS20_Training_245_t2.nii.gz']\n",
            "['BraTS20_Training_198_flair.nii.gz', 'BraTS20_Training_198_seg.nii.gz', 'BraTS20_Training_198_t1.nii.gz', 'BraTS20_Training_198_t1ce.nii.gz', 'BraTS20_Training_198_t2.nii.gz']\n",
            "['BraTS20_Training_014_flair.nii.gz', 'BraTS20_Training_014_seg.nii.gz', 'BraTS20_Training_014_t1.nii.gz', 'BraTS20_Training_014_t1ce.nii.gz', 'BraTS20_Training_014_t2.nii.gz']\n",
            "['BraTS20_Training_042_flair.nii.gz', 'BraTS20_Training_042_seg.nii.gz', 'BraTS20_Training_042_t1.nii.gz', 'BraTS20_Training_042_t1ce.nii.gz', 'BraTS20_Training_042_t2.nii.gz']\n",
            "['BraTS20_Training_221_flair.nii.gz', 'BraTS20_Training_221_seg.nii.gz', 'BraTS20_Training_221_t1.nii.gz', 'BraTS20_Training_221_t1ce.nii.gz', 'BraTS20_Training_221_t2.nii.gz']\n",
            "['BraTS20_Training_082_flair.nii.gz', 'BraTS20_Training_082_seg.nii.gz', 'BraTS20_Training_082_t1.nii.gz', 'BraTS20_Training_082_t1ce.nii.gz', 'BraTS20_Training_082_t2.nii.gz']\n",
            "['BraTS20_Training_152_flair.nii.gz', 'BraTS20_Training_152_seg.nii.gz', 'BraTS20_Training_152_t1.nii.gz', 'BraTS20_Training_152_t1ce.nii.gz', 'BraTS20_Training_152_t2.nii.gz']\n",
            "['BraTS20_Training_244_flair.nii.gz', 'BraTS20_Training_244_seg.nii.gz', 'BraTS20_Training_244_t1.nii.gz', 'BraTS20_Training_244_t1ce.nii.gz', 'BraTS20_Training_244_t2.nii.gz']\n",
            "['BraTS20_Training_106_flair.nii.gz', 'BraTS20_Training_106_seg.nii.gz', 'BraTS20_Training_106_t1.nii.gz', 'BraTS20_Training_106_t1ce.nii.gz', 'BraTS20_Training_106_t2.nii.gz']\n",
            "['BraTS20_Training_098_flair.nii.gz', 'BraTS20_Training_098_seg.nii.gz', 'BraTS20_Training_098_t1.nii.gz', 'BraTS20_Training_098_t1ce.nii.gz', 'BraTS20_Training_098_t2.nii.gz']\n",
            "['BraTS20_Training_336_flair.nii.gz', 'BraTS20_Training_336_seg.nii.gz', 'BraTS20_Training_336_t1.nii.gz', 'BraTS20_Training_336_t1ce.nii.gz', 'BraTS20_Training_336_t2.nii.gz']\n",
            "['BraTS20_Training_054_flair.nii.gz', 'BraTS20_Training_054_seg.nii.gz', 'BraTS20_Training_054_t1.nii.gz', 'BraTS20_Training_054_t1ce.nii.gz', 'BraTS20_Training_054_t2.nii.gz']\n",
            "['BraTS20_Training_043_flair.nii.gz', 'BraTS20_Training_043_seg.nii.gz', 'BraTS20_Training_043_t1.nii.gz', 'BraTS20_Training_043_t1ce.nii.gz', 'BraTS20_Training_043_t2.nii.gz']\n",
            "['BraTS20_Training_116_flair.nii.gz', 'BraTS20_Training_116_seg.nii.gz', 'BraTS20_Training_116_t1.nii.gz', 'BraTS20_Training_116_t1ce.nii.gz', 'BraTS20_Training_116_t2.nii.gz']\n",
            "['BraTS20_Training_055_flair.nii.gz', 'BraTS20_Training_055_seg.nii.gz', 'BraTS20_Training_055_t1.nii.gz', 'BraTS20_Training_055_t1ce.nii.gz', 'BraTS20_Training_055_t2.nii.gz']\n",
            "['BraTS20_Training_262_flair.nii.gz', 'BraTS20_Training_262_seg.nii.gz', 'BraTS20_Training_262_t1.nii.gz', 'BraTS20_Training_262_t1ce.nii.gz', 'BraTS20_Training_262_t2.nii.gz']\n",
            "['BraTS20_Training_202_flair.nii.gz', 'BraTS20_Training_202_seg.nii.gz', 'BraTS20_Training_202_t1.nii.gz', 'BraTS20_Training_202_t1ce.nii.gz', 'BraTS20_Training_202_t2.nii.gz']\n",
            "['BraTS20_Training_293_flair.nii.gz', 'BraTS20_Training_293_seg.nii.gz', 'BraTS20_Training_293_t1.nii.gz', 'BraTS20_Training_293_t1ce.nii.gz', 'BraTS20_Training_293_t2.nii.gz']\n",
            "['BraTS20_Training_327_flair.nii.gz', 'BraTS20_Training_327_seg.nii.gz', 'BraTS20_Training_327_t1.nii.gz', 'BraTS20_Training_327_t1ce.nii.gz', 'BraTS20_Training_327_t2.nii.gz']\n",
            "['BraTS20_Training_132_flair.nii.gz', 'BraTS20_Training_132_seg.nii.gz', 'BraTS20_Training_132_t1.nii.gz', 'BraTS20_Training_132_t1ce.nii.gz', 'BraTS20_Training_132_t2.nii.gz']\n",
            "['BraTS20_Training_302_flair.nii.gz', 'BraTS20_Training_302_seg.nii.gz', 'BraTS20_Training_302_t1.nii.gz', 'BraTS20_Training_302_t1ce.nii.gz', 'BraTS20_Training_302_t2.nii.gz']\n",
            "['BraTS20_Training_068_flair.nii.gz', 'BraTS20_Training_068_seg.nii.gz', 'BraTS20_Training_068_t1.nii.gz', 'BraTS20_Training_068_t1ce.nii.gz', 'BraTS20_Training_068_t2.nii.gz']\n",
            "['BraTS20_Training_169_flair.nii.gz', 'BraTS20_Training_169_seg.nii.gz', 'BraTS20_Training_169_t1.nii.gz', 'BraTS20_Training_169_t1ce.nii.gz', 'BraTS20_Training_169_t2.nii.gz']\n",
            "['BraTS20_Training_039_flair.nii.gz', 'BraTS20_Training_039_seg.nii.gz', 'BraTS20_Training_039_t1.nii.gz', 'BraTS20_Training_039_t1ce.nii.gz', 'BraTS20_Training_039_t2.nii.gz']\n",
            "['BraTS20_Training_065_flair.nii.gz', 'BraTS20_Training_065_seg.nii.gz', 'BraTS20_Training_065_t1.nii.gz', 'BraTS20_Training_065_t1ce.nii.gz', 'BraTS20_Training_065_t2.nii.gz']\n",
            "['BraTS20_Training_010_flair.nii.gz', 'BraTS20_Training_010_seg.nii.gz', 'BraTS20_Training_010_t1.nii.gz', 'BraTS20_Training_010_t1ce.nii.gz', 'BraTS20_Training_010_t2.nii.gz']\n",
            "['BraTS20_Training_157_flair.nii.gz', 'BraTS20_Training_157_seg.nii.gz', 'BraTS20_Training_157_t1.nii.gz', 'BraTS20_Training_157_t1ce.nii.gz', 'BraTS20_Training_157_t2.nii.gz']\n",
            "['BraTS20_Training_357_flair.nii.gz', 'BraTS20_Training_357_seg.nii.gz', 'BraTS20_Training_357_t1.nii.gz', 'BraTS20_Training_357_t1ce.nii.gz', 'BraTS20_Training_357_t2.nii.gz']\n",
            "['BraTS20_Training_184_flair.nii.gz', 'BraTS20_Training_184_seg.nii.gz', 'BraTS20_Training_184_t1.nii.gz', 'BraTS20_Training_184_t1ce.nii.gz', 'BraTS20_Training_184_t2.nii.gz']\n",
            "['BraTS20_Training_220_flair.nii.gz', 'BraTS20_Training_220_seg.nii.gz', 'BraTS20_Training_220_t1.nii.gz', 'BraTS20_Training_220_t1ce.nii.gz', 'BraTS20_Training_220_t2.nii.gz']\n",
            "['BraTS20_Training_242_flair.nii.gz', 'BraTS20_Training_242_seg.nii.gz', 'BraTS20_Training_242_t1.nii.gz', 'BraTS20_Training_242_t1ce.nii.gz', 'BraTS20_Training_242_t2.nii.gz']\n",
            "['BraTS20_Training_020_flair.nii.gz', 'BraTS20_Training_020_seg.nii.gz', 'BraTS20_Training_020_t1.nii.gz', 'BraTS20_Training_020_t1ce.nii.gz', 'BraTS20_Training_020_t2.nii.gz']\n",
            "['BraTS20_Training_103_flair.nii.gz', 'BraTS20_Training_103_seg.nii.gz', 'BraTS20_Training_103_t1.nii.gz', 'BraTS20_Training_103_t1ce.nii.gz', 'BraTS20_Training_103_t2.nii.gz']\n",
            "['BraTS20_Training_074_flair.nii.gz', 'BraTS20_Training_074_seg.nii.gz', 'BraTS20_Training_074_t1.nii.gz', 'BraTS20_Training_074_t1ce.nii.gz', 'BraTS20_Training_074_t2.nii.gz']\n",
            "['BraTS20_Training_112_flair.nii.gz', 'BraTS20_Training_112_seg.nii.gz', 'BraTS20_Training_112_t1.nii.gz', 'BraTS20_Training_112_t1ce.nii.gz', 'BraTS20_Training_112_t2.nii.gz']\n",
            "['BraTS20_Training_189_flair.nii.gz', 'BraTS20_Training_189_seg.nii.gz', 'BraTS20_Training_189_t1.nii.gz', 'BraTS20_Training_189_t1ce.nii.gz', 'BraTS20_Training_189_t2.nii.gz']\n",
            "['BraTS20_Training_087_flair.nii.gz', 'BraTS20_Training_087_seg.nii.gz', 'BraTS20_Training_087_t1.nii.gz', 'BraTS20_Training_087_t1ce.nii.gz', 'BraTS20_Training_087_t2.nii.gz']\n",
            "['BraTS20_Training_350_flair.nii.gz', 'BraTS20_Training_350_seg.nii.gz', 'BraTS20_Training_350_t1.nii.gz', 'BraTS20_Training_350_t1ce.nii.gz', 'BraTS20_Training_350_t2.nii.gz']\n",
            "['BraTS20_Training_299_flair.nii.gz', 'BraTS20_Training_299_seg.nii.gz', 'BraTS20_Training_299_t1.nii.gz', 'BraTS20_Training_299_t1ce.nii.gz', 'BraTS20_Training_299_t2.nii.gz']\n",
            "['BraTS20_Training_070_flair.nii.gz', 'BraTS20_Training_070_seg.nii.gz', 'BraTS20_Training_070_t1.nii.gz', 'BraTS20_Training_070_t1ce.nii.gz', 'BraTS20_Training_070_t2.nii.gz']\n",
            "['BraTS20_Training_044_flair.nii.gz', 'BraTS20_Training_044_seg.nii.gz', 'BraTS20_Training_044_t1.nii.gz', 'BraTS20_Training_044_t1ce.nii.gz', 'BraTS20_Training_044_t2.nii.gz']\n",
            "['BraTS20_Training_170_flair.nii.gz', 'BraTS20_Training_170_seg.nii.gz', 'BraTS20_Training_170_t1.nii.gz', 'BraTS20_Training_170_t1ce.nii.gz', 'BraTS20_Training_170_t2.nii.gz']\n",
            "['BraTS20_Training_179_flair.nii.gz', 'BraTS20_Training_179_seg.nii.gz', 'BraTS20_Training_179_t1.nii.gz', 'BraTS20_Training_179_t1ce.nii.gz', 'BraTS20_Training_179_t2.nii.gz']\n",
            "['BraTS20_Training_239_flair.nii.gz', 'BraTS20_Training_239_seg.nii.gz', 'BraTS20_Training_239_t1.nii.gz', 'BraTS20_Training_239_t1ce.nii.gz', 'BraTS20_Training_239_t2.nii.gz']\n",
            "['BraTS20_Training_120_flair.nii.gz', 'BraTS20_Training_120_seg.nii.gz', 'BraTS20_Training_120_t1.nii.gz', 'BraTS20_Training_120_t1ce.nii.gz', 'BraTS20_Training_120_t2.nii.gz']\n",
            "['BraTS20_Training_366_flair.nii.gz', 'BraTS20_Training_366_seg.nii.gz', 'BraTS20_Training_366_t1.nii.gz', 'BraTS20_Training_366_t1ce.nii.gz', 'BraTS20_Training_366_t2.nii.gz']\n",
            "['BraTS20_Training_315_flair.nii.gz', 'BraTS20_Training_315_seg.nii.gz', 'BraTS20_Training_315_t1.nii.gz', 'BraTS20_Training_315_t1ce.nii.gz', 'BraTS20_Training_315_t2.nii.gz']\n",
            "['BraTS20_Training_201_flair.nii.gz', 'BraTS20_Training_201_seg.nii.gz', 'BraTS20_Training_201_t1.nii.gz', 'BraTS20_Training_201_t1ce.nii.gz', 'BraTS20_Training_201_t2.nii.gz']\n",
            "['BraTS20_Training_164_flair.nii.gz', 'BraTS20_Training_164_seg.nii.gz', 'BraTS20_Training_164_t1.nii.gz', 'BraTS20_Training_164_t1ce.nii.gz', 'BraTS20_Training_164_t2.nii.gz']\n",
            "['BraTS20_Training_322_flair.nii.gz', 'BraTS20_Training_322_seg.nii.gz', 'BraTS20_Training_322_t1.nii.gz', 'BraTS20_Training_322_t1ce.nii.gz', 'BraTS20_Training_322_t2.nii.gz']\n",
            "['BraTS20_Training_232_flair.nii.gz', 'BraTS20_Training_232_seg.nii.gz', 'BraTS20_Training_232_t1.nii.gz', 'BraTS20_Training_232_t1ce.nii.gz', 'BraTS20_Training_232_t2.nii.gz']\n",
            "['BraTS20_Training_206_flair.nii.gz', 'BraTS20_Training_206_seg.nii.gz', 'BraTS20_Training_206_t1.nii.gz', 'BraTS20_Training_206_t1ce.nii.gz', 'BraTS20_Training_206_t2.nii.gz']\n",
            "['BraTS20_Training_353_flair.nii.gz', 'BraTS20_Training_353_seg.nii.gz', 'BraTS20_Training_353_t1.nii.gz', 'BraTS20_Training_353_t1ce.nii.gz', 'BraTS20_Training_353_t2.nii.gz']\n",
            "['BraTS20_Training_300_flair.nii.gz', 'BraTS20_Training_300_seg.nii.gz', 'BraTS20_Training_300_t1.nii.gz', 'BraTS20_Training_300_t1ce.nii.gz', 'BraTS20_Training_300_t2.nii.gz']\n",
            "['BraTS20_Training_125_flair.nii.gz', 'BraTS20_Training_125_seg.nii.gz', 'BraTS20_Training_125_t1.nii.gz', 'BraTS20_Training_125_t1ce.nii.gz', 'BraTS20_Training_125_t2.nii.gz']\n",
            "['BraTS20_Training_012_flair.nii.gz', 'BraTS20_Training_012_seg.nii.gz', 'BraTS20_Training_012_t1.nii.gz', 'BraTS20_Training_012_t1ce.nii.gz', 'BraTS20_Training_012_t2.nii.gz']\n",
            "['BraTS20_Training_064_flair.nii.gz', 'BraTS20_Training_064_seg.nii.gz', 'BraTS20_Training_064_t1.nii.gz', 'BraTS20_Training_064_t1ce.nii.gz', 'BraTS20_Training_064_t2.nii.gz']\n",
            "['BraTS20_Training_364_flair.nii.gz', 'BraTS20_Training_364_seg.nii.gz', 'BraTS20_Training_364_t1.nii.gz', 'BraTS20_Training_364_t1ce.nii.gz', 'BraTS20_Training_364_t2.nii.gz']\n",
            "['BraTS20_Training_359_flair.nii.gz', 'BraTS20_Training_359_seg.nii.gz', 'BraTS20_Training_359_t1.nii.gz', 'BraTS20_Training_359_t1ce.nii.gz', 'BraTS20_Training_359_t2.nii.gz']\n",
            "['BraTS20_Training_161_flair.nii.gz', 'BraTS20_Training_161_seg.nii.gz', 'BraTS20_Training_161_t1.nii.gz', 'BraTS20_Training_161_t1ce.nii.gz', 'BraTS20_Training_161_t2.nii.gz']\n",
            "['BraTS20_Training_272_flair.nii.gz', 'BraTS20_Training_272_seg.nii.gz', 'BraTS20_Training_272_t1.nii.gz', 'BraTS20_Training_272_t1ce.nii.gz', 'BraTS20_Training_272_t2.nii.gz']\n",
            "['BraTS20_Training_288_flair.nii.gz', 'BraTS20_Training_288_seg.nii.gz', 'BraTS20_Training_288_t1.nii.gz', 'BraTS20_Training_288_t1ce.nii.gz', 'BraTS20_Training_288_t2.nii.gz']\n",
            "['BraTS20_Training_009_flair.nii.gz', 'BraTS20_Training_009_seg.nii.gz', 'BraTS20_Training_009_t1.nii.gz', 'BraTS20_Training_009_t1ce.nii.gz', 'BraTS20_Training_009_t2.nii.gz']\n",
            "['BraTS20_Training_105_flair.nii.gz', 'BraTS20_Training_105_seg.nii.gz', 'BraTS20_Training_105_t1.nii.gz', 'BraTS20_Training_105_t1ce.nii.gz', 'BraTS20_Training_105_t2.nii.gz']\n",
            "['BraTS20_Training_046_flair.nii.gz', 'BraTS20_Training_046_seg.nii.gz', 'BraTS20_Training_046_t1.nii.gz', 'BraTS20_Training_046_t1ce.nii.gz', 'BraTS20_Training_046_t2.nii.gz']\n",
            "['BraTS20_Training_037_flair.nii.gz', 'BraTS20_Training_037_seg.nii.gz', 'BraTS20_Training_037_t1.nii.gz', 'BraTS20_Training_037_t1ce.nii.gz', 'BraTS20_Training_037_t2.nii.gz']\n",
            "['BraTS20_Training_165_flair.nii.gz', 'BraTS20_Training_165_seg.nii.gz', 'BraTS20_Training_165_t1.nii.gz', 'BraTS20_Training_165_t1ce.nii.gz', 'BraTS20_Training_165_t2.nii.gz']\n",
            "['BraTS20_Training_127_flair.nii.gz', 'BraTS20_Training_127_seg.nii.gz', 'BraTS20_Training_127_t1.nii.gz', 'BraTS20_Training_127_t1ce.nii.gz', 'BraTS20_Training_127_t2.nii.gz']\n",
            "['BraTS20_Training_237_flair.nii.gz', 'BraTS20_Training_237_seg.nii.gz', 'BraTS20_Training_237_t1.nii.gz', 'BraTS20_Training_237_t1ce.nii.gz', 'BraTS20_Training_237_t2.nii.gz']\n",
            "['BraTS20_Training_259_flair.nii.gz', 'BraTS20_Training_259_seg.nii.gz', 'BraTS20_Training_259_t1.nii.gz', 'BraTS20_Training_259_t1ce.nii.gz', 'BraTS20_Training_259_t2.nii.gz']\n",
            "['BraTS20_Training_224_flair.nii.gz', 'BraTS20_Training_224_seg.nii.gz', 'BraTS20_Training_224_t1.nii.gz', 'BraTS20_Training_224_t1ce.nii.gz', 'BraTS20_Training_224_t2.nii.gz']\n",
            "['BraTS20_Training_092_flair.nii.gz', 'BraTS20_Training_092_seg.nii.gz', 'BraTS20_Training_092_t1.nii.gz', 'BraTS20_Training_092_t1ce.nii.gz', 'BraTS20_Training_092_t2.nii.gz']\n",
            "['BraTS20_Training_090_flair.nii.gz', 'BraTS20_Training_090_seg.nii.gz', 'BraTS20_Training_090_t1.nii.gz', 'BraTS20_Training_090_t1ce.nii.gz', 'BraTS20_Training_090_t2.nii.gz']\n",
            "['BraTS20_Training_066_flair.nii.gz', 'BraTS20_Training_066_seg.nii.gz', 'BraTS20_Training_066_t1.nii.gz', 'BraTS20_Training_066_t1ce.nii.gz', 'BraTS20_Training_066_t2.nii.gz']\n",
            "['BraTS20_Training_159_flair.nii.gz', 'BraTS20_Training_159_seg.nii.gz', 'BraTS20_Training_159_t1.nii.gz', 'BraTS20_Training_159_t1ce.nii.gz', 'BraTS20_Training_159_t2.nii.gz']\n",
            "['BraTS20_Training_191_flair.nii.gz', 'BraTS20_Training_191_seg.nii.gz', 'BraTS20_Training_191_t1.nii.gz', 'BraTS20_Training_191_t1ce.nii.gz', 'BraTS20_Training_191_t2.nii.gz']\n",
            "['BraTS20_Training_100_flair.nii.gz', 'BraTS20_Training_100_seg.nii.gz', 'BraTS20_Training_100_t1.nii.gz', 'BraTS20_Training_100_t1ce.nii.gz', 'BraTS20_Training_100_t2.nii.gz']\n",
            "['BraTS20_Training_301_flair.nii.gz', 'BraTS20_Training_301_seg.nii.gz', 'BraTS20_Training_301_t1.nii.gz', 'BraTS20_Training_301_t1ce.nii.gz', 'BraTS20_Training_301_t2.nii.gz']\n",
            "['BraTS20_Training_026_flair.nii.gz', 'BraTS20_Training_026_seg.nii.gz', 'BraTS20_Training_026_t1.nii.gz', 'BraTS20_Training_026_t1ce.nii.gz', 'BraTS20_Training_026_t2.nii.gz']\n",
            "['BraTS20_Training_212_flair.nii.gz', 'BraTS20_Training_212_seg.nii.gz', 'BraTS20_Training_212_t1.nii.gz', 'BraTS20_Training_212_t1ce.nii.gz', 'BraTS20_Training_212_t2.nii.gz']\n",
            "['BraTS20_Training_035_flair.nii.gz', 'BraTS20_Training_035_seg.nii.gz', 'BraTS20_Training_035_t1.nii.gz', 'BraTS20_Training_035_t1ce.nii.gz', 'BraTS20_Training_035_t2.nii.gz']\n",
            "['BraTS20_Training_333_flair.nii.gz', 'BraTS20_Training_333_seg.nii.gz', 'BraTS20_Training_333_t1.nii.gz', 'BraTS20_Training_333_t1ce.nii.gz', 'BraTS20_Training_333_t2.nii.gz']\n",
            "['BraTS20_Training_316_flair.nii.gz', 'BraTS20_Training_316_seg.nii.gz', 'BraTS20_Training_316_t1.nii.gz', 'BraTS20_Training_316_t1ce.nii.gz', 'BraTS20_Training_316_t2.nii.gz']\n",
            "['BraTS20_Training_255_flair.nii.gz', 'BraTS20_Training_255_seg.nii.gz', 'BraTS20_Training_255_t1.nii.gz', 'BraTS20_Training_255_t1ce.nii.gz', 'BraTS20_Training_255_t2.nii.gz']\n",
            "['BraTS20_Training_129_flair.nii.gz', 'BraTS20_Training_129_seg.nii.gz', 'BraTS20_Training_129_t1.nii.gz', 'BraTS20_Training_129_t1ce.nii.gz', 'BraTS20_Training_129_t2.nii.gz']\n",
            "['BraTS20_Training_118_flair.nii.gz', 'BraTS20_Training_118_seg.nii.gz', 'BraTS20_Training_118_t1.nii.gz', 'BraTS20_Training_118_t1ce.nii.gz', 'BraTS20_Training_118_t2.nii.gz']\n",
            "['BraTS20_Training_306_flair.nii.gz', 'BraTS20_Training_306_seg.nii.gz', 'BraTS20_Training_306_t1.nii.gz', 'BraTS20_Training_306_t1ce.nii.gz', 'BraTS20_Training_306_t2.nii.gz']\n",
            "['BraTS20_Training_207_flair.nii.gz', 'BraTS20_Training_207_seg.nii.gz', 'BraTS20_Training_207_t1.nii.gz', 'BraTS20_Training_207_t1ce.nii.gz', 'BraTS20_Training_207_t2.nii.gz']\n",
            "['BraTS20_Training_175_flair.nii.gz', 'BraTS20_Training_175_seg.nii.gz', 'BraTS20_Training_175_t1.nii.gz', 'BraTS20_Training_175_t1ce.nii.gz', 'BraTS20_Training_175_t2.nii.gz']\n",
            "['BraTS20_Training_277_flair.nii.gz', 'BraTS20_Training_277_seg.nii.gz', 'BraTS20_Training_277_t1.nii.gz', 'BraTS20_Training_277_t1ce.nii.gz', 'BraTS20_Training_277_t2.nii.gz']\n",
            "['BraTS20_Training_104_flair.nii.gz', 'BraTS20_Training_104_seg.nii.gz', 'BraTS20_Training_104_t1.nii.gz', 'BraTS20_Training_104_t1ce.nii.gz', 'BraTS20_Training_104_t2.nii.gz']\n",
            "['BraTS20_Training_312_flair.nii.gz', 'BraTS20_Training_312_seg.nii.gz', 'BraTS20_Training_312_t1.nii.gz', 'BraTS20_Training_312_t1ce.nii.gz', 'BraTS20_Training_312_t2.nii.gz']\n",
            "['BraTS20_Training_307_flair.nii.gz', 'BraTS20_Training_307_seg.nii.gz', 'BraTS20_Training_307_t1.nii.gz', 'BraTS20_Training_307_t1ce.nii.gz', 'BraTS20_Training_307_t2.nii.gz']\n",
            "['BraTS20_Training_001_flair.nii.gz', 'BraTS20_Training_001_seg.nii.gz', 'BraTS20_Training_001_t1.nii.gz', 'BraTS20_Training_001_t1ce.nii.gz', 'BraTS20_Training_001_t2.nii.gz']\n",
            "['BraTS20_Training_094_flair.nii.gz', 'BraTS20_Training_094_seg.nii.gz', 'BraTS20_Training_094_t1.nii.gz', 'BraTS20_Training_094_t1ce.nii.gz', 'BraTS20_Training_094_t2.nii.gz']\n",
            "['BraTS20_Training_114_flair.nii.gz', 'BraTS20_Training_114_seg.nii.gz', 'BraTS20_Training_114_t1.nii.gz', 'BraTS20_Training_114_t1ce.nii.gz', 'BraTS20_Training_114_t2.nii.gz']\n",
            "['BraTS20_Training_123_flair.nii.gz', 'BraTS20_Training_123_seg.nii.gz', 'BraTS20_Training_123_t1.nii.gz', 'BraTS20_Training_123_t1ce.nii.gz', 'BraTS20_Training_123_t2.nii.gz']\n",
            "['BraTS20_Training_257_flair.nii.gz', 'BraTS20_Training_257_seg.nii.gz', 'BraTS20_Training_257_t1.nii.gz', 'BraTS20_Training_257_t1ce.nii.gz', 'BraTS20_Training_257_t2.nii.gz']\n",
            "['BraTS20_Training_228_flair.nii.gz', 'BraTS20_Training_228_seg.nii.gz', 'BraTS20_Training_228_t1.nii.gz', 'BraTS20_Training_228_t1ce.nii.gz', 'BraTS20_Training_228_t2.nii.gz']\n",
            "['BraTS20_Training_320_flair.nii.gz', 'BraTS20_Training_320_seg.nii.gz', 'BraTS20_Training_320_t1.nii.gz', 'BraTS20_Training_320_t1ce.nii.gz', 'BraTS20_Training_320_t2.nii.gz']\n",
            "['BraTS20_Training_325_flair.nii.gz', 'BraTS20_Training_325_seg.nii.gz', 'BraTS20_Training_325_t1.nii.gz', 'BraTS20_Training_325_t1ce.nii.gz', 'BraTS20_Training_325_t2.nii.gz']\n",
            "['BraTS20_Training_360_flair.nii.gz', 'BraTS20_Training_360_seg.nii.gz', 'BraTS20_Training_360_t1.nii.gz', 'BraTS20_Training_360_t1ce.nii.gz', 'BraTS20_Training_360_t2.nii.gz']\n",
            "['BraTS20_Training_266_flair.nii.gz', 'BraTS20_Training_266_seg.nii.gz', 'BraTS20_Training_266_t1.nii.gz', 'BraTS20_Training_266_t1ce.nii.gz', 'BraTS20_Training_266_t2.nii.gz']\n",
            "['BraTS20_Training_088_flair.nii.gz', 'BraTS20_Training_088_seg.nii.gz', 'BraTS20_Training_088_t1.nii.gz', 'BraTS20_Training_088_t1ce.nii.gz', 'BraTS20_Training_088_t2.nii.gz']\n",
            "['BraTS20_Training_265_flair.nii.gz', 'BraTS20_Training_265_seg.nii.gz', 'BraTS20_Training_265_t1.nii.gz', 'BraTS20_Training_265_t1ce.nii.gz', 'BraTS20_Training_265_t2.nii.gz']\n",
            "['BraTS20_Training_051_flair.nii.gz', 'BraTS20_Training_051_seg.nii.gz', 'BraTS20_Training_051_t1.nii.gz', 'BraTS20_Training_051_t1ce.nii.gz', 'BraTS20_Training_051_t2.nii.gz']\n",
            "['BraTS20_Training_348_flair.nii.gz', 'BraTS20_Training_348_seg.nii.gz', 'BraTS20_Training_348_t1.nii.gz', 'BraTS20_Training_348_t1ce.nii.gz', 'BraTS20_Training_348_t2.nii.gz']\n",
            "['BraTS20_Training_122_flair.nii.gz', 'BraTS20_Training_122_seg.nii.gz', 'BraTS20_Training_122_t1.nii.gz', 'BraTS20_Training_122_t1ce.nii.gz', 'BraTS20_Training_122_t2.nii.gz']\n",
            "['BraTS20_Training_177_flair.nii.gz', 'BraTS20_Training_177_seg.nii.gz', 'BraTS20_Training_177_t1.nii.gz', 'BraTS20_Training_177_t1ce.nii.gz', 'BraTS20_Training_177_t2.nii.gz']\n",
            "['BraTS20_Training_036_flair.nii.gz', 'BraTS20_Training_036_seg.nii.gz', 'BraTS20_Training_036_t1.nii.gz', 'BraTS20_Training_036_t1ce.nii.gz', 'BraTS20_Training_036_t2.nii.gz']\n",
            "['BraTS20_Training_018_flair.nii.gz', 'BraTS20_Training_018_seg.nii.gz', 'BraTS20_Training_018_t1.nii.gz', 'BraTS20_Training_018_t1ce.nii.gz', 'BraTS20_Training_018_t2.nii.gz']\n",
            "['BraTS20_Training_362_flair.nii.gz', 'BraTS20_Training_362_seg.nii.gz', 'BraTS20_Training_362_t1.nii.gz', 'BraTS20_Training_362_t1ce.nii.gz', 'BraTS20_Training_362_t2.nii.gz']\n",
            "['BraTS20_Training_056_flair.nii.gz', 'BraTS20_Training_056_seg.nii.gz', 'BraTS20_Training_056_t1.nii.gz', 'BraTS20_Training_056_t1ce.nii.gz', 'BraTS20_Training_056_t2.nii.gz']\n",
            "['BraTS20_Training_167_flair.nii.gz', 'BraTS20_Training_167_seg.nii.gz', 'BraTS20_Training_167_t1.nii.gz', 'BraTS20_Training_167_t1ce.nii.gz', 'BraTS20_Training_167_t2.nii.gz']\n",
            "['BraTS20_Training_097_flair.nii.gz', 'BraTS20_Training_097_seg.nii.gz', 'BraTS20_Training_097_t1.nii.gz', 'BraTS20_Training_097_t1ce.nii.gz', 'BraTS20_Training_097_t2.nii.gz']\n",
            "['BraTS20_Training_115_flair.nii.gz', 'BraTS20_Training_115_seg.nii.gz', 'BraTS20_Training_115_t1.nii.gz', 'BraTS20_Training_115_t1ce.nii.gz', 'BraTS20_Training_115_t2.nii.gz']\n",
            "['BraTS20_Training_231_flair.nii.gz', 'BraTS20_Training_231_seg.nii.gz', 'BraTS20_Training_231_t1.nii.gz', 'BraTS20_Training_231_t1ce.nii.gz', 'BraTS20_Training_231_t2.nii.gz']\n",
            "['BraTS20_Training_250_flair.nii.gz', 'BraTS20_Training_250_seg.nii.gz', 'BraTS20_Training_250_t1.nii.gz', 'BraTS20_Training_250_t1ce.nii.gz', 'BraTS20_Training_250_t2.nii.gz']\n",
            "['BraTS20_Training_226_flair.nii.gz', 'BraTS20_Training_226_seg.nii.gz', 'BraTS20_Training_226_t1.nii.gz', 'BraTS20_Training_226_t1ce.nii.gz', 'BraTS20_Training_226_t2.nii.gz']\n",
            "['BraTS20_Training_185_flair.nii.gz', 'BraTS20_Training_185_seg.nii.gz', 'BraTS20_Training_185_t1.nii.gz', 'BraTS20_Training_185_t1ce.nii.gz', 'BraTS20_Training_185_t2.nii.gz']\n",
            "['BraTS20_Training_341_flair.nii.gz', 'BraTS20_Training_341_seg.nii.gz', 'BraTS20_Training_341_t1.nii.gz', 'BraTS20_Training_341_t1ce.nii.gz', 'BraTS20_Training_341_t2.nii.gz']\n",
            "['BraTS20_Training_204_flair.nii.gz', 'BraTS20_Training_204_seg.nii.gz', 'BraTS20_Training_204_t1.nii.gz', 'BraTS20_Training_204_t1ce.nii.gz', 'BraTS20_Training_204_t2.nii.gz']\n",
            "['BraTS20_Training_211_flair.nii.gz', 'BraTS20_Training_211_seg.nii.gz', 'BraTS20_Training_211_t1.nii.gz', 'BraTS20_Training_211_t1ce.nii.gz', 'BraTS20_Training_211_t2.nii.gz']\n",
            "['BraTS20_Training_192_flair.nii.gz', 'BraTS20_Training_192_seg.nii.gz', 'BraTS20_Training_192_t1.nii.gz', 'BraTS20_Training_192_t1ce.nii.gz', 'BraTS20_Training_192_t2.nii.gz']\n",
            "['BraTS20_Training_335_flair.nii.gz', 'BraTS20_Training_335_seg.nii.gz', 'BraTS20_Training_335_t1.nii.gz', 'BraTS20_Training_335_t1ce.nii.gz', 'BraTS20_Training_335_t2.nii.gz']\n",
            "['BraTS20_Training_215_flair.nii.gz', 'BraTS20_Training_215_seg.nii.gz', 'BraTS20_Training_215_t1.nii.gz', 'BraTS20_Training_215_t1ce.nii.gz', 'BraTS20_Training_215_t2.nii.gz']\n",
            "['BraTS20_Training_330_flair.nii.gz', 'BraTS20_Training_330_seg.nii.gz', 'BraTS20_Training_330_t1.nii.gz', 'BraTS20_Training_330_t1ce.nii.gz', 'BraTS20_Training_330_t2.nii.gz']\n",
            "['BraTS20_Training_199_flair.nii.gz', 'BraTS20_Training_199_seg.nii.gz', 'BraTS20_Training_199_t1.nii.gz', 'BraTS20_Training_199_t1ce.nii.gz', 'BraTS20_Training_199_t2.nii.gz']\n",
            "['BraTS20_Training_040_flair.nii.gz', 'BraTS20_Training_040_seg.nii.gz', 'BraTS20_Training_040_t1.nii.gz', 'BraTS20_Training_040_t1ce.nii.gz', 'BraTS20_Training_040_t2.nii.gz']\n",
            "['BraTS20_Training_025_flair.nii.gz', 'BraTS20_Training_025_seg.nii.gz', 'BraTS20_Training_025_t1.nii.gz', 'BraTS20_Training_025_t1ce.nii.gz', 'BraTS20_Training_025_t2.nii.gz']\n",
            "['BraTS20_Training_086_flair.nii.gz', 'BraTS20_Training_086_seg.nii.gz', 'BraTS20_Training_086_t1.nii.gz', 'BraTS20_Training_086_t1ce.nii.gz', 'BraTS20_Training_086_t2.nii.gz']\n",
            "['BraTS20_Training_108_flair.nii.gz', 'BraTS20_Training_108_seg.nii.gz', 'BraTS20_Training_108_t1.nii.gz', 'BraTS20_Training_108_t1ce.nii.gz', 'BraTS20_Training_108_t2.nii.gz']\n",
            "['BraTS20_Training_308_flair.nii.gz', 'BraTS20_Training_308_seg.nii.gz', 'BraTS20_Training_308_t1.nii.gz', 'BraTS20_Training_308_t1ce.nii.gz', 'BraTS20_Training_308_t2.nii.gz']\n",
            "['BraTS20_Training_173_flair.nii.gz', 'BraTS20_Training_173_seg.nii.gz', 'BraTS20_Training_173_t1.nii.gz', 'BraTS20_Training_173_t1ce.nii.gz', 'BraTS20_Training_173_t2.nii.gz']\n",
            "['BraTS20_Training_326_flair.nii.gz', 'BraTS20_Training_326_seg.nii.gz', 'BraTS20_Training_326_t1.nii.gz', 'BraTS20_Training_326_t1ce.nii.gz', 'BraTS20_Training_326_t2.nii.gz']\n",
            "['BraTS20_Training_363_flair.nii.gz', 'BraTS20_Training_363_seg.nii.gz', 'BraTS20_Training_363_t1.nii.gz', 'BraTS20_Training_363_t1ce.nii.gz', 'BraTS20_Training_363_t2.nii.gz']\n",
            "['BraTS20_Training_030_flair.nii.gz', 'BraTS20_Training_030_seg.nii.gz', 'BraTS20_Training_030_t1.nii.gz', 'BraTS20_Training_030_t1ce.nii.gz', 'BraTS20_Training_030_t2.nii.gz']\n",
            "['BraTS20_Training_023_flair.nii.gz', 'BraTS20_Training_023_seg.nii.gz', 'BraTS20_Training_023_t1.nii.gz', 'BraTS20_Training_023_t1ce.nii.gz', 'BraTS20_Training_023_t2.nii.gz']\n",
            "['BraTS20_Training_077_flair.nii.gz', 'BraTS20_Training_077_seg.nii.gz', 'BraTS20_Training_077_t1.nii.gz', 'BraTS20_Training_077_t1ce.nii.gz', 'BraTS20_Training_077_t2.nii.gz']\n",
            "['BraTS20_Training_033_flair.nii.gz', 'BraTS20_Training_033_seg.nii.gz', 'BraTS20_Training_033_t1.nii.gz', 'BraTS20_Training_033_t1ce.nii.gz', 'BraTS20_Training_033_t2.nii.gz']\n",
            "['BraTS20_Training_168_flair.nii.gz', 'BraTS20_Training_168_seg.nii.gz', 'BraTS20_Training_168_t1.nii.gz', 'BraTS20_Training_168_t1ce.nii.gz', 'BraTS20_Training_168_t2.nii.gz']\n",
            "['BraTS20_Training_121_flair.nii.gz', 'BraTS20_Training_121_seg.nii.gz', 'BraTS20_Training_121_t1.nii.gz', 'BraTS20_Training_121_t1ce.nii.gz', 'BraTS20_Training_121_t2.nii.gz']\n",
            "['BraTS20_Training_339_flair.nii.gz', 'BraTS20_Training_339_seg.nii.gz', 'BraTS20_Training_339_t1.nii.gz', 'BraTS20_Training_339_t1ce.nii.gz', 'BraTS20_Training_339_t2.nii.gz']\n",
            "['BraTS20_Training_067_flair.nii.gz', 'BraTS20_Training_067_seg.nii.gz', 'BraTS20_Training_067_t1.nii.gz', 'BraTS20_Training_067_t1ce.nii.gz', 'BraTS20_Training_067_t2.nii.gz']\n",
            "['BraTS20_Training_247_flair.nii.gz', 'BraTS20_Training_247_seg.nii.gz', 'BraTS20_Training_247_t1.nii.gz', 'BraTS20_Training_247_t1ce.nii.gz', 'BraTS20_Training_247_t2.nii.gz']\n",
            "['BraTS20_Training_213_flair.nii.gz', 'BraTS20_Training_213_seg.nii.gz', 'BraTS20_Training_213_t1.nii.gz', 'BraTS20_Training_213_t1ce.nii.gz', 'BraTS20_Training_213_t2.nii.gz']\n",
            "['BraTS20_Training_275_flair.nii.gz', 'BraTS20_Training_275_seg.nii.gz', 'BraTS20_Training_275_t1.nii.gz', 'BraTS20_Training_275_t1ce.nii.gz', 'BraTS20_Training_275_t2.nii.gz']\n",
            "['BraTS20_Training_249_flair.nii.gz', 'BraTS20_Training_249_seg.nii.gz', 'BraTS20_Training_249_t1.nii.gz', 'BraTS20_Training_249_t1ce.nii.gz', 'BraTS20_Training_249_t2.nii.gz']\n",
            "['BraTS20_Training_004_flair.nii.gz', 'BraTS20_Training_004_seg.nii.gz', 'BraTS20_Training_004_t1.nii.gz', 'BraTS20_Training_004_t1ce.nii.gz', 'BraTS20_Training_004_t2.nii.gz']\n",
            "['BraTS20_Training_069_flair.nii.gz', 'BraTS20_Training_069_seg.nii.gz', 'BraTS20_Training_069_t1.nii.gz', 'BraTS20_Training_069_t1ce.nii.gz', 'BraTS20_Training_069_t2.nii.gz']\n",
            "['BraTS20_Training_083_flair.nii.gz', 'BraTS20_Training_083_seg.nii.gz', 'BraTS20_Training_083_t1.nii.gz', 'BraTS20_Training_083_t1ce.nii.gz', 'BraTS20_Training_083_t2.nii.gz']\n",
            "['BraTS20_Training_133_flair.nii.gz', 'BraTS20_Training_133_seg.nii.gz', 'BraTS20_Training_133_t1.nii.gz', 'BraTS20_Training_133_t1ce.nii.gz', 'BraTS20_Training_133_t2.nii.gz']\n",
            "['BraTS20_Training_227_flair.nii.gz', 'BraTS20_Training_227_seg.nii.gz', 'BraTS20_Training_227_t1.nii.gz', 'BraTS20_Training_227_t1ce.nii.gz', 'BraTS20_Training_227_t2.nii.gz']\n",
            "['BraTS20_Training_093_flair.nii.gz', 'BraTS20_Training_093_seg.nii.gz', 'BraTS20_Training_093_t1.nii.gz', 'BraTS20_Training_093_t1ce.nii.gz', 'BraTS20_Training_093_t2.nii.gz']\n",
            "['BraTS20_Training_343_flair.nii.gz', 'BraTS20_Training_343_seg.nii.gz', 'BraTS20_Training_343_t1.nii.gz', 'BraTS20_Training_343_t1ce.nii.gz', 'BraTS20_Training_343_t2.nii.gz']\n",
            "['BraTS20_Training_369_flair.nii.gz', 'BraTS20_Training_369_seg.nii.gz', 'BraTS20_Training_369_t1.nii.gz', 'BraTS20_Training_369_t1ce.nii.gz', 'BraTS20_Training_369_t2.nii.gz']\n",
            "['BraTS20_Training_095_flair.nii.gz', 'BraTS20_Training_095_seg.nii.gz', 'BraTS20_Training_095_t1.nii.gz', 'BraTS20_Training_095_t1ce.nii.gz', 'BraTS20_Training_095_t2.nii.gz']\n",
            "['BraTS20_Training_186_flair.nii.gz', 'BraTS20_Training_186_seg.nii.gz', 'BraTS20_Training_186_t1.nii.gz', 'BraTS20_Training_186_t1ce.nii.gz', 'BraTS20_Training_186_t2.nii.gz']\n",
            "['BraTS20_Training_002_flair.nii.gz', 'BraTS20_Training_002_seg.nii.gz', 'BraTS20_Training_002_t1.nii.gz', 'BraTS20_Training_002_t1ce.nii.gz', 'BraTS20_Training_002_t2.nii.gz']\n",
            "['BraTS20_Training_144_flair.nii.gz', 'BraTS20_Training_144_seg.nii.gz', 'BraTS20_Training_144_t1.nii.gz', 'BraTS20_Training_144_t1ce.nii.gz', 'BraTS20_Training_144_t2.nii.gz']\n",
            "['BraTS20_Training_007_flair.nii.gz', 'BraTS20_Training_007_seg.nii.gz', 'BraTS20_Training_007_t1.nii.gz', 'BraTS20_Training_007_t1ce.nii.gz', 'BraTS20_Training_007_t2.nii.gz']\n",
            "['BraTS20_Training_260_flair.nii.gz', 'BraTS20_Training_260_seg.nii.gz', 'BraTS20_Training_260_t1.nii.gz', 'BraTS20_Training_260_t1ce.nii.gz', 'BraTS20_Training_260_t2.nii.gz']\n",
            "['BraTS20_Training_263_flair.nii.gz', 'BraTS20_Training_263_seg.nii.gz', 'BraTS20_Training_263_t1.nii.gz', 'BraTS20_Training_263_t1ce.nii.gz', 'BraTS20_Training_263_t2.nii.gz']\n",
            "['BraTS20_Training_225_flair.nii.gz', 'BraTS20_Training_225_seg.nii.gz', 'BraTS20_Training_225_t1.nii.gz', 'BraTS20_Training_225_t1ce.nii.gz', 'BraTS20_Training_225_t2.nii.gz']\n",
            "['BraTS20_Training_142_flair.nii.gz', 'BraTS20_Training_142_seg.nii.gz', 'BraTS20_Training_142_t1.nii.gz', 'BraTS20_Training_142_t1ce.nii.gz', 'BraTS20_Training_142_t2.nii.gz']\n",
            "['BraTS20_Training_347_flair.nii.gz', 'BraTS20_Training_347_seg.nii.gz', 'BraTS20_Training_347_t1.nii.gz', 'BraTS20_Training_347_t1ce.nii.gz', 'BraTS20_Training_347_t2.nii.gz']\n",
            "['BraTS20_Training_059_flair.nii.gz', 'BraTS20_Training_059_seg.nii.gz', 'BraTS20_Training_059_t1.nii.gz', 'BraTS20_Training_059_t1ce.nii.gz', 'BraTS20_Training_059_t2.nii.gz']\n",
            "['BraTS20_Training_268_flair.nii.gz', 'BraTS20_Training_268_seg.nii.gz', 'BraTS20_Training_268_t1.nii.gz', 'BraTS20_Training_268_t1ce.nii.gz', 'BraTS20_Training_268_t2.nii.gz']\n",
            "['BraTS20_Training_342_flair.nii.gz', 'BraTS20_Training_342_seg.nii.gz', 'BraTS20_Training_342_t1.nii.gz', 'BraTS20_Training_342_t1ce.nii.gz', 'BraTS20_Training_342_t2.nii.gz']\n",
            "['BraTS20_Training_182_flair.nii.gz', 'BraTS20_Training_182_seg.nii.gz', 'BraTS20_Training_182_t1.nii.gz', 'BraTS20_Training_182_t1ce.nii.gz', 'BraTS20_Training_182_t2.nii.gz']\n",
            "['BraTS20_Training_079_flair.nii.gz', 'BraTS20_Training_079_seg.nii.gz', 'BraTS20_Training_079_t1.nii.gz', 'BraTS20_Training_079_t1ce.nii.gz', 'BraTS20_Training_079_t2.nii.gz']\n",
            "['BraTS20_Training_354_flair.nii.gz', 'BraTS20_Training_354_seg.nii.gz', 'BraTS20_Training_354_t1.nii.gz', 'BraTS20_Training_354_t1ce.nii.gz', 'BraTS20_Training_354_t2.nii.gz']\n",
            "['BraTS20_Training_203_flair.nii.gz', 'BraTS20_Training_203_seg.nii.gz', 'BraTS20_Training_203_t1.nii.gz', 'BraTS20_Training_203_t1ce.nii.gz', 'BraTS20_Training_203_t2.nii.gz']\n",
            "['BraTS20_Training_021_flair.nii.gz', 'BraTS20_Training_021_seg.nii.gz', 'BraTS20_Training_021_t1.nii.gz', 'BraTS20_Training_021_t1ce.nii.gz', 'BraTS20_Training_021_t2.nii.gz']\n",
            "['BraTS20_Training_145_flair.nii.gz', 'BraTS20_Training_145_seg.nii.gz', 'BraTS20_Training_145_t1.nii.gz', 'BraTS20_Training_145_t1ce.nii.gz', 'BraTS20_Training_145_t2.nii.gz']\n",
            "['BraTS20_Training_286_flair.nii.gz', 'BraTS20_Training_286_seg.nii.gz', 'BraTS20_Training_286_t1.nii.gz', 'BraTS20_Training_286_t1ce.nii.gz', 'BraTS20_Training_286_t2.nii.gz']\n",
            "['BraTS20_Training_015_flair.nii.gz', 'BraTS20_Training_015_seg.nii.gz', 'BraTS20_Training_015_t1.nii.gz', 'BraTS20_Training_015_t1ce.nii.gz', 'BraTS20_Training_015_t2.nii.gz']\n",
            "['BraTS20_Training_210_flair.nii.gz', 'BraTS20_Training_210_seg.nii.gz', 'BraTS20_Training_210_t1.nii.gz', 'BraTS20_Training_210_t1ce.nii.gz', 'BraTS20_Training_210_t2.nii.gz']\n",
            "['BraTS20_Training_158_flair.nii.gz', 'BraTS20_Training_158_seg.nii.gz', 'BraTS20_Training_158_t1.nii.gz', 'BraTS20_Training_158_t1ce.nii.gz', 'BraTS20_Training_158_t2.nii.gz']\n",
            "['BraTS20_Training_194_flair.nii.gz', 'BraTS20_Training_194_seg.nii.gz', 'BraTS20_Training_194_t1.nii.gz', 'BraTS20_Training_194_t1ce.nii.gz', 'BraTS20_Training_194_t2.nii.gz']\n",
            "['BraTS20_Training_323_flair.nii.gz', 'BraTS20_Training_323_seg.nii.gz', 'BraTS20_Training_323_t1.nii.gz', 'BraTS20_Training_323_t1ce.nii.gz', 'BraTS20_Training_323_t2.nii.gz']\n",
            "['BraTS20_Training_234_flair.nii.gz', 'BraTS20_Training_234_seg.nii.gz', 'BraTS20_Training_234_t1.nii.gz', 'BraTS20_Training_234_t1ce.nii.gz', 'BraTS20_Training_234_t2.nii.gz']\n",
            "['BraTS20_Training_101_flair.nii.gz', 'BraTS20_Training_101_seg.nii.gz', 'BraTS20_Training_101_t1.nii.gz', 'BraTS20_Training_101_t1ce.nii.gz', 'BraTS20_Training_101_t2.nii.gz']\n",
            "['BraTS20_Training_166_flair.nii.gz', 'BraTS20_Training_166_seg.nii.gz', 'BraTS20_Training_166_t1.nii.gz', 'BraTS20_Training_166_t1ce.nii.gz', 'BraTS20_Training_166_t2.nii.gz']\n",
            "['BraTS20_Training_022_flair.nii.gz', 'BraTS20_Training_022_seg.nii.gz', 'BraTS20_Training_022_t1.nii.gz', 'BraTS20_Training_022_t1ce.nii.gz', 'BraTS20_Training_022_t2.nii.gz']\n",
            "['BraTS20_Training_110_flair.nii.gz', 'BraTS20_Training_110_seg.nii.gz', 'BraTS20_Training_110_t1.nii.gz', 'BraTS20_Training_110_t1ce.nii.gz', 'BraTS20_Training_110_t2.nii.gz']\n",
            "['BraTS20_Training_235_flair.nii.gz', 'BraTS20_Training_235_seg.nii.gz', 'BraTS20_Training_235_t1.nii.gz', 'BraTS20_Training_235_t1ce.nii.gz', 'BraTS20_Training_235_t2.nii.gz']\n",
            "['BraTS20_Training_080_flair.nii.gz', 'BraTS20_Training_080_seg.nii.gz', 'BraTS20_Training_080_t1.nii.gz', 'BraTS20_Training_080_t1ce.nii.gz', 'BraTS20_Training_080_t2.nii.gz']\n",
            "['BraTS20_Training_076_flair.nii.gz', 'BraTS20_Training_076_seg.nii.gz', 'BraTS20_Training_076_t1.nii.gz', 'BraTS20_Training_076_t1ce.nii.gz', 'BraTS20_Training_076_t2.nii.gz']\n",
            "['BraTS20_Training_314_flair.nii.gz', 'BraTS20_Training_314_seg.nii.gz', 'BraTS20_Training_314_t1.nii.gz', 'BraTS20_Training_314_t1ce.nii.gz', 'BraTS20_Training_314_t2.nii.gz']\n",
            "['BraTS20_Training_050_flair.nii.gz', 'BraTS20_Training_050_seg.nii.gz', 'BraTS20_Training_050_t1.nii.gz', 'BraTS20_Training_050_t1ce.nii.gz', 'BraTS20_Training_050_t2.nii.gz']\n",
            "['BraTS20_Training_063_flair.nii.gz', 'BraTS20_Training_063_seg.nii.gz', 'BraTS20_Training_063_t1.nii.gz', 'BraTS20_Training_063_t1ce.nii.gz', 'BraTS20_Training_063_t2.nii.gz']\n",
            "['BraTS20_Training_329_flair.nii.gz', 'BraTS20_Training_329_seg.nii.gz', 'BraTS20_Training_329_t1.nii.gz', 'BraTS20_Training_329_t1ce.nii.gz', 'BraTS20_Training_329_t2.nii.gz']\n",
            "['BraTS20_Training_089_flair.nii.gz', 'BraTS20_Training_089_seg.nii.gz', 'BraTS20_Training_089_t1.nii.gz', 'BraTS20_Training_089_t1ce.nii.gz', 'BraTS20_Training_089_t2.nii.gz']\n",
            "['BraTS20_Training_085_flair.nii.gz', 'BraTS20_Training_085_seg.nii.gz', 'BraTS20_Training_085_t1.nii.gz', 'BraTS20_Training_085_t1ce.nii.gz', 'BraTS20_Training_085_t2.nii.gz']\n",
            "['BraTS20_Training_332_flair.nii.gz', 'BraTS20_Training_332_seg.nii.gz', 'BraTS20_Training_332_t1.nii.gz', 'BraTS20_Training_332_t1ce.nii.gz', 'BraTS20_Training_332_t2.nii.gz']\n",
            "['BraTS20_Training_176_flair.nii.gz', 'BraTS20_Training_176_seg.nii.gz', 'BraTS20_Training_176_t1.nii.gz', 'BraTS20_Training_176_t1ce.nii.gz', 'BraTS20_Training_176_t2.nii.gz']\n",
            "['BraTS20_Training_200_flair.nii.gz', 'BraTS20_Training_200_seg.nii.gz', 'BraTS20_Training_200_t1.nii.gz', 'BraTS20_Training_200_t1ce.nii.gz', 'BraTS20_Training_200_t2.nii.gz']\n",
            "['BraTS20_Training_309_flair.nii.gz', 'BraTS20_Training_309_seg.nii.gz', 'BraTS20_Training_309_t1.nii.gz', 'BraTS20_Training_309_t1ce.nii.gz', 'BraTS20_Training_309_t2.nii.gz']\n",
            "['BraTS20_Training_072_flair.nii.gz', 'BraTS20_Training_072_seg.nii.gz', 'BraTS20_Training_072_t1.nii.gz', 'BraTS20_Training_072_t1ce.nii.gz', 'BraTS20_Training_072_t2.nii.gz']\n",
            "['BraTS20_Training_269_flair.nii.gz', 'BraTS20_Training_269_seg.nii.gz', 'BraTS20_Training_269_t1.nii.gz', 'BraTS20_Training_269_t1ce.nii.gz', 'BraTS20_Training_269_t2.nii.gz']\n",
            "['BraTS20_Training_252_flair.nii.gz', 'BraTS20_Training_252_seg.nii.gz', 'BraTS20_Training_252_t1.nii.gz', 'BraTS20_Training_252_t1ce.nii.gz', 'BraTS20_Training_252_t2.nii.gz']\n",
            "['BraTS20_Training_261_flair.nii.gz', 'BraTS20_Training_261_seg.nii.gz', 'BraTS20_Training_261_t1.nii.gz', 'BraTS20_Training_261_t1ce.nii.gz', 'BraTS20_Training_261_t2.nii.gz']\n",
            "['BraTS20_Training_251_flair.nii.gz', 'BraTS20_Training_251_seg.nii.gz', 'BraTS20_Training_251_t1.nii.gz', 'BraTS20_Training_251_t1ce.nii.gz', 'BraTS20_Training_251_t2.nii.gz']\n",
            "['BraTS20_Training_024_flair.nii.gz', 'BraTS20_Training_024_seg.nii.gz', 'BraTS20_Training_024_t1.nii.gz', 'BraTS20_Training_024_t1ce.nii.gz', 'BraTS20_Training_024_t2.nii.gz']\n",
            "['BraTS20_Training_337_flair.nii.gz', 'BraTS20_Training_337_seg.nii.gz', 'BraTS20_Training_337_t1.nii.gz', 'BraTS20_Training_337_t1ce.nii.gz', 'BraTS20_Training_337_t2.nii.gz']\n",
            "['BraTS20_Training_038_flair.nii.gz', 'BraTS20_Training_038_seg.nii.gz', 'BraTS20_Training_038_t1.nii.gz', 'BraTS20_Training_038_t1ce.nii.gz', 'BraTS20_Training_038_t2.nii.gz']\n",
            "['BraTS20_Training_180_flair.nii.gz', 'BraTS20_Training_180_seg.nii.gz', 'BraTS20_Training_180_t1.nii.gz', 'BraTS20_Training_180_t1ce.nii.gz', 'BraTS20_Training_180_t2.nii.gz']\n",
            "['BraTS20_Training_361_flair.nii.gz', 'BraTS20_Training_361_seg.nii.gz', 'BraTS20_Training_361_t1.nii.gz', 'BraTS20_Training_361_t1ce.nii.gz', 'BraTS20_Training_361_t2.nii.gz']\n",
            "['BraTS20_Training_136_flair.nii.gz', 'BraTS20_Training_136_seg.nii.gz', 'BraTS20_Training_136_t1.nii.gz', 'BraTS20_Training_136_t1ce.nii.gz', 'BraTS20_Training_136_t2.nii.gz']\n",
            "['BraTS20_Training_274_flair.nii.gz', 'BraTS20_Training_274_seg.nii.gz', 'BraTS20_Training_274_t1.nii.gz', 'BraTS20_Training_274_t1ce.nii.gz', 'BraTS20_Training_274_t2.nii.gz']\n",
            "['BraTS20_Training_218_flair.nii.gz', 'BraTS20_Training_218_seg.nii.gz', 'BraTS20_Training_218_t1.nii.gz', 'BraTS20_Training_218_t1ce.nii.gz', 'BraTS20_Training_218_t2.nii.gz']\n",
            "['BraTS20_Training_160_flair.nii.gz', 'BraTS20_Training_160_seg.nii.gz', 'BraTS20_Training_160_t1.nii.gz', 'BraTS20_Training_160_t1ce.nii.gz', 'BraTS20_Training_160_t2.nii.gz']\n",
            "['BraTS20_Training_276_flair.nii.gz', 'BraTS20_Training_276_seg.nii.gz', 'BraTS20_Training_276_t1.nii.gz', 'BraTS20_Training_276_t1ce.nii.gz', 'BraTS20_Training_276_t2.nii.gz']\n",
            "['BraTS20_Training_140_flair.nii.gz', 'BraTS20_Training_140_seg.nii.gz', 'BraTS20_Training_140_t1.nii.gz', 'BraTS20_Training_140_t1ce.nii.gz', 'BraTS20_Training_140_t2.nii.gz']\n",
            "['BraTS20_Training_150_flair.nii.gz', 'BraTS20_Training_150_seg.nii.gz', 'BraTS20_Training_150_t1.nii.gz', 'BraTS20_Training_150_t1ce.nii.gz', 'BraTS20_Training_150_t2.nii.gz']\n",
            "['BraTS20_Training_217_flair.nii.gz', 'BraTS20_Training_217_seg.nii.gz', 'BraTS20_Training_217_t1.nii.gz', 'BraTS20_Training_217_t1ce.nii.gz', 'BraTS20_Training_217_t2.nii.gz']\n",
            "['BraTS20_Training_248_flair.nii.gz', 'BraTS20_Training_248_seg.nii.gz', 'BraTS20_Training_248_t1.nii.gz', 'BraTS20_Training_248_t1ce.nii.gz', 'BraTS20_Training_248_t2.nii.gz']\n",
            "['BraTS20_Training_128_flair.nii.gz', 'BraTS20_Training_128_seg.nii.gz', 'BraTS20_Training_128_t1.nii.gz', 'BraTS20_Training_128_t1ce.nii.gz', 'BraTS20_Training_128_t2.nii.gz']\n",
            "['BraTS20_Training_109_flair.nii.gz', 'BraTS20_Training_109_seg.nii.gz', 'BraTS20_Training_109_t1.nii.gz', 'BraTS20_Training_109_t1ce.nii.gz', 'BraTS20_Training_109_t2.nii.gz']\n",
            "['BraTS20_Training_238_flair.nii.gz', 'BraTS20_Training_238_seg.nii.gz', 'BraTS20_Training_238_t1.nii.gz', 'BraTS20_Training_238_t1ce.nii.gz', 'BraTS20_Training_238_t2.nii.gz']\n"
          ],
          "name": "stdout"
        }
      ]
    },
    {
      "cell_type": "code",
      "metadata": {
        "id": "YVrK43TrtreP",
        "colab_type": "code",
        "colab": {}
      },
      "source": [
        "# Remove '/content/MICCAI_BraTS2020_TrainingData' from disk to save space\n",
        "shutil.rmtree('/content/MICCAI_BraTS2020_TrainingData')"
      ],
      "execution_count": 12,
      "outputs": []
    },
    {
      "cell_type": "code",
      "metadata": {
        "id": "s1jHOE6gurSS",
        "colab_type": "code",
        "colab": {}
      },
      "source": [
        "# I have placed a manual seed in line 34 to make code reproducible\n",
        "\n",
        "def get_data(flair_imgs_dir, t1ce_imgs_dir, t2_imgs_dir, gt_imgs_dir, train_val_test_split = (0.7, 0.15, 0.15)):\n",
        "    \n",
        "    # First we get the file paths for all the input images and the corresponding ground truth images\n",
        "    flair_imgs_list = os.listdir(flair_imgs_dir)\n",
        "    t1ce_imgs_list = os.listdir(t1ce_imgs_dir)\n",
        "    t2_imgs_list = os.listdir(t2_imgs_dir)\n",
        "    gt_imgs_list = os.listdir(gt_imgs_dir)\n",
        "    \n",
        "    flair_imgs_list.sort()\n",
        "    t1ce_imgs_list.sort()\n",
        "    t2_imgs_list.sort()\n",
        "    gt_imgs_list.sort()\n",
        "      \n",
        "    # We want the image lists to contain file paths (not file names)\n",
        "    for i in range(len(flair_imgs_list)):\n",
        "        flair_imgs_list[i] = os.path.join(flair_imgs_dir, flair_imgs_list[i])\n",
        "        t1ce_imgs_list[i] = os.path.join(t1ce_imgs_dir, t1ce_imgs_list[i])\n",
        "        t2_imgs_list[i] = os.path.join(t2_imgs_dir, t2_imgs_list[i])\n",
        "        gt_imgs_list[i] = os.path.join(gt_imgs_dir, gt_imgs_list[i])\n",
        "    \n",
        "    # Check if number of images in all lists are the same\n",
        "    flag = len(np.unique(np.array([len(flair_imgs_list), len(t1ce_imgs_list), len(t2_imgs_list), len(gt_imgs_list)])))\n",
        "    assert flag ==1, \"The number of images in different inputted folders vary!\"\n",
        "    \n",
        "    # Computing the length of the train validation and test subsets\n",
        "    trn_subset_len = int((train_val_test_split[0])* len(flair_imgs_list))\n",
        "    vld_subset_len = int((len(flair_imgs_list) - trn_subset_len)*((train_val_test_split[1])/(train_val_test_split[1]+train_val_test_split[2])))\n",
        "    tst_subset_len = len(flair_imgs_list) - trn_subset_len - vld_subset_len\n",
        "    \n",
        "    \n",
        "    # Shuffle the lists (all dir lists get shuffled the same way)\n",
        "    np.random.seed(42)\n",
        "    p = np.random.permutation(len(flair_imgs_list))\n",
        "    flair_imgs_list = ((np.array(flair_imgs_list))[p]).tolist()\n",
        "    t1ce_imgs_list = ((np.array(t1ce_imgs_list))[p]).tolist()\n",
        "    t2_imgs_list = ((np.array(t2_imgs_list))[p]).tolist()\n",
        "    gt_imgs_list = ((np.array(gt_imgs_list))[p]).tolist()\n",
        "    \n",
        "    \n",
        "    # Perform train, validation and test split on data\n",
        "    flair_trn = flair_imgs_list[:trn_subset_len]\n",
        "    flair_vld = flair_imgs_list[trn_subset_len: trn_subset_len+vld_subset_len]\n",
        "    flair_tst = flair_imgs_list[-tst_subset_len:]\n",
        "    \n",
        "    t1ce_trn = t1ce_imgs_list[:trn_subset_len]\n",
        "    t1ce_vld = t1ce_imgs_list[trn_subset_len: trn_subset_len+vld_subset_len]\n",
        "    t1ce_tst = t1ce_imgs_list[-tst_subset_len:]\n",
        "    \n",
        "    t2_trn = t2_imgs_list[:trn_subset_len]\n",
        "    t2_vld = t2_imgs_list[trn_subset_len: trn_subset_len+vld_subset_len]\n",
        "    t2_tst = t2_imgs_list[-tst_subset_len:]\n",
        "    \n",
        "    gt_trn = gt_imgs_list[:trn_subset_len]\n",
        "    gt_vld = gt_imgs_list[trn_subset_len: trn_subset_len+vld_subset_len]\n",
        "    gt_tst = gt_imgs_list[-tst_subset_len:]\n",
        "       \n",
        "    return (flair_trn, t1ce_trn, t2_trn, gt_trn), (flair_vld, t1ce_vld, t2_vld, gt_vld), (flair_tst, t1ce_tst, t2_tst, gt_tst)"
      ],
      "execution_count": 13,
      "outputs": []
    },
    {
      "cell_type": "code",
      "metadata": {
        "id": "5Rvq_kQmurSZ",
        "colab_type": "code",
        "colab": {}
      },
      "source": [
        "# I have placed a manual seed in line 30 to make results reproducible\n",
        "\n",
        "class Train_Dataset(Dataset):\n",
        "    '''\n",
        "    Custom dataset defined for our BraTs Data for training\n",
        "    The data has been randomly cropped to 160*160\n",
        "    '''\n",
        "    \n",
        "    def __init__(self, flair_imgs_list, t1ce_imgs_list, t2_imgs_list, gt_imgs_list):\n",
        "        '''\n",
        "        flair_imgs_list: a list containing all directories for \"flair\" modality images in the train data\n",
        "        t1ce_imgs_list: a list containing all directories for \"t1ce\" modality images in the train data\n",
        "        t2_imgs_list: a list containing all directories for \"t2\" modality images in the train data\n",
        "        gt_imgs_list: a list containing all directories for \"seg\" modality images in the train data  -> segmented images\n",
        "         \n",
        "        '''\n",
        "        self.flair_imgs_list = flair_imgs_list\n",
        "        self.t1ce_imgs_list = t1ce_imgs_list\n",
        "        self.t2_imgs_list = t2_imgs_list\n",
        "        self.gt_imgs_list = gt_imgs_list\n",
        "        \n",
        "    def transform(self, flair_PIL, t1ce_PIL, t2_PIL, gt_PIL):\n",
        "        '''\n",
        "        Performs identical random transformation on flair, t1ce, t2 and gt images \n",
        "        \n",
        "        Returns:\n",
        "        (input_img, gt_img) --> all sizes: (160*160)\n",
        "        '''\n",
        "        # Get random crop coordinates\n",
        "        torch.manual_seed(42)\n",
        "        top, left, height, width = transforms.RandomCrop.get_params(flair_PIL, (160, 160))\n",
        "        # Pass the coordinates to F.crop --> Results in 160*160 numpy arrays\n",
        "        flair_np = np.array(TF.crop(flair_PIL, top, left, height, width))\n",
        "        t1ce_np = np.array(TF.crop(t1ce_PIL, top, left, height, width))\n",
        "        t2_np = np.array(TF.crop(t2_PIL, top, left, height, width))\n",
        "        gt_np = np.array(TF.crop(gt_PIL, top, left, height, width))\n",
        "        \n",
        "        # Create ground_truth mask\n",
        "        gt_3d = np.zeros((3,160,160))\n",
        "        gt_3d[0,:,:] = (gt_np==1)\n",
        "        gt_3d[1,:,:] = (gt_np==2)\n",
        "        gt_3d[2,:,:] = (gt_np==4)\n",
        "        \n",
        "        # Stack the input images\n",
        "        input_img = np.stack((flair_np, t1ce_np, t2_np), axis=0)\n",
        "        \n",
        "        # Return input as a C*H*W tensor and ground_truth mask as  3*H*W tensor -> 3 is for the 3 types of tumors\n",
        "        return (torch.tensor(input_img, dtype=torch.float)), (torch.tensor(gt_3d, dtype=torch.float))\n",
        "   \n",
        "        \n",
        "    def __len__(self):\n",
        "        '''returns the length of the entire dataset'''\n",
        "        return len(self.flair_imgs_list)\n",
        "        \n",
        "    def __getitem__(self, idx):\n",
        "        # Open Images\n",
        "        flair_PIL = Image.open(self.flair_imgs_list[idx])\n",
        "        t1ce_PIL = Image.open(self.t1ce_imgs_list[idx])\n",
        "        t2_PIL = Image.open(self.t2_imgs_list[idx])\n",
        "        gt_PIL = Image.open(self.gt_imgs_list[idx])\n",
        "        \n",
        "        # Perform Transformation\n",
        "        input_img, gt_3d = self.transform(flair_PIL= flair_PIL, t1ce_PIL= t1ce_PIL, t2_PIL= t2_PIL, gt_PIL= gt_PIL)\n",
        "                \n",
        "        return input_img, gt_3d"
      ],
      "execution_count": 14,
      "outputs": []
    },
    {
      "cell_type": "code",
      "metadata": {
        "id": "Iex0i-u9urSd",
        "colab_type": "code",
        "colab": {}
      },
      "source": [
        "class vld_tst_Dataset(Dataset):\n",
        "    '''\n",
        "    Custom dataset defined for our BraTs Data for validation and testing\n",
        "    The data has been center cropped to 160*160\n",
        "    '''\n",
        "    \n",
        "    def __init__(self, flair_imgs_list, t1ce_imgs_list, t2_imgs_list, gt_imgs_list):\n",
        "        '''\n",
        "        flair_imgs_list: a list containing all directories for \"flair\" modality images in the validation and test data\n",
        "        t1ce_imgs_list: a list containing all directories for \"t1ce\" modality images in the validation and test data\n",
        "        t2_imgs_list: a list containing all directories for \"t2\" modality images in the validation and test data\n",
        "        gt_imgs_list: a list containing all directories for \"seg\" modality images in the validation and test data  -> segmented images\n",
        "         \n",
        "        '''\n",
        "        self.flair_imgs_list = flair_imgs_list\n",
        "        self.t1ce_imgs_list = t1ce_imgs_list\n",
        "        self.t2_imgs_list = t2_imgs_list\n",
        "        self.gt_imgs_list = gt_imgs_list\n",
        "        self.center_crop= transforms.Compose([\n",
        "            transforms.CenterCrop(160)         \n",
        "        ])\n",
        "        \n",
        "        \n",
        "    def transform(self, flair_PIL, t1ce_PIL, t2_PIL, gt_PIL):\n",
        "        '''\n",
        "        Performs required transformations on images\n",
        "        '''     \n",
        "        flair_np = np.array(self.center_crop(flair_PIL))\n",
        "        t1ce_np = np.array(self.center_crop(t1ce_PIL))\n",
        "        t2_np = np.array(self.center_crop(t2_PIL))\n",
        "        gt_np = np.array(self.center_crop(gt_PIL))\n",
        "        \n",
        "        # Create ground_truth mask\n",
        "        gt_3d = np.zeros((3,160,160))\n",
        "        gt_3d[0,:,:] = (gt_np==1)\n",
        "        gt_3d[1,:,:] = (gt_np==2)\n",
        "        gt_3d[2,:,:] = (gt_np==4)\n",
        "              \n",
        "        # Stack input images together\n",
        "        input_img = np.stack((flair_np, t1ce_np, t2_np), axis=0)\n",
        "        \n",
        "        # Return input as a C*H*W tensor and ground_truth mask as  3*H*W tensor --> 3 is for the 3 types of tumors\n",
        "        return torch.tensor(input_img, dtype=torch.float), torch.tensor(gt_3d, dtype=torch.float)\n",
        "    \n",
        "        \n",
        "    def __len__(self):\n",
        "        '''returns the length of the entire dataset'''\n",
        "        return len(self.flair_imgs_list)\n",
        "        \n",
        "    def __getitem__(self, idx):\n",
        "        # Open Images\n",
        "        flair_PIL = Image.open(self.flair_imgs_list[idx])\n",
        "        t1ce_PIL = Image.open(self.t1ce_imgs_list[idx])\n",
        "        t2_PIL = Image.open(self.t2_imgs_list[idx])\n",
        "        gt_PIL = Image.open(self.gt_imgs_list[idx])\n",
        "        \n",
        "        # Perform Transformation\n",
        "        input_img, gt_3d = self.transform(flair_PIL= flair_PIL, t1ce_PIL= t1ce_PIL, t2_PIL= t2_PIL, gt_PIL= gt_PIL)\n",
        "                \n",
        "        return input_img, gt_3d"
      ],
      "execution_count": 15,
      "outputs": []
    },
    {
      "cell_type": "code",
      "metadata": {
        "id": "aj7C2E5VurSh",
        "colab_type": "code",
        "colab": {}
      },
      "source": [
        "flair_imgs_dir = './dataset/flair'\n",
        "t1ce_imgs_dir = './dataset/t1ce'\n",
        "t2_imgs_dir = './dataset/t2'\n",
        "gt_imgs_dir = './dataset/segmentation'"
      ],
      "execution_count": 16,
      "outputs": []
    },
    {
      "cell_type": "code",
      "metadata": {
        "id": "CMgjCWJgurSp",
        "colab_type": "code",
        "colab": {}
      },
      "source": [
        "# Performing the get_data\n",
        "train_tuple, validation_tuple, test_tuple = get_data(flair_imgs_dir=flair_imgs_dir, t1ce_imgs_dir=t1ce_imgs_dir, t2_imgs_dir=t2_imgs_dir, gt_imgs_dir=gt_imgs_dir)"
      ],
      "execution_count": 17,
      "outputs": []
    },
    {
      "cell_type": "code",
      "metadata": {
        "id": "Hz7DY-NXurSs",
        "colab_type": "code",
        "colab": {}
      },
      "source": [
        "torch.manual_seed(42)\n",
        "# Instanciating train, validation and test datasets\n",
        "train_dataset = Train_Dataset(train_tuple[0], train_tuple[1], train_tuple[2], train_tuple[3])\n",
        "val_dataset = vld_tst_Dataset(validation_tuple[0], validation_tuple[1], validation_tuple[2], validation_tuple[3])\n",
        "test_dataset = vld_tst_Dataset(test_tuple[0], test_tuple[1], test_tuple[2], test_tuple[3])"
      ],
      "execution_count": 18,
      "outputs": []
    },
    {
      "cell_type": "code",
      "metadata": {
        "id": "Fq-hs__jurSv",
        "colab_type": "code",
        "colab": {}
      },
      "source": [
        "torch.manual_seed(100)\n",
        "# Define the Dataloader for each dataset\n",
        "train_loader = DataLoader(train_dataset, batch_size=64, shuffle=True, pin_memory=True)\n",
        "validation_loader = DataLoader(val_dataset, batch_size=64, pin_memory=True)\n",
        "test_loader = DataLoader(test_dataset, batch_size=64, pin_memory=True)\n"
      ],
      "execution_count": 19,
      "outputs": []
    },
    {
      "cell_type": "code",
      "metadata": {
        "id": "bfn8p1xMtUix",
        "colab_type": "code",
        "colab": {}
      },
      "source": [
        ""
      ],
      "execution_count": 20,
      "outputs": []
    },
    {
      "cell_type": "markdown",
      "metadata": {
        "id": "lJE-drCsurTB",
        "colab_type": "text"
      },
      "source": [
        "#  Defining the model and instantiating it"
      ]
    },
    {
      "cell_type": "code",
      "metadata": {
        "id": "Uq5f4QIFurTC",
        "colab_type": "code",
        "colab": {}
      },
      "source": [
        "LEAKAGE = 0.01"
      ],
      "execution_count": 20,
      "outputs": []
    },
    {
      "cell_type": "code",
      "metadata": {
        "id": "Yu53UETyurTF",
        "colab_type": "code",
        "colab": {}
      },
      "source": [
        "# Defining the convolution block in Encoder\n",
        "class ConvBlock(nn.Module):\n",
        "    def __init__(self, in_dim, out_dim, kernel, stride, padding=1):\n",
        "        super(ConvBlock, self).__init__()\n",
        "        self.conv = nn.Conv2d(in_dim, out_dim, (kernel, kernel), stride=stride, padding=padding)\n",
        "        self.batchnorm = nn.BatchNorm2d(out_dim)\n",
        "    \n",
        "    def forward(self, x):\n",
        "        residual = self.conv(x)\n",
        "        residual = self.batchnorm(residual)\n",
        "        residual = F.leaky_relu(residual, LEAKAGE)\n",
        "        return residual\n"
      ],
      "execution_count": 21,
      "outputs": []
    },
    {
      "cell_type": "code",
      "metadata": {
        "id": "fwGFfD6aurTL",
        "colab_type": "code",
        "colab": {}
      },
      "source": [
        "# Defining the Deconvolution block in Decoder\n",
        "class DeconvBlock(nn.Module):\n",
        "    def __init__(self, in_dim, out_dim, kernel, stride, padding=1, scale_factor=2):\n",
        "        super(DeconvBlock, self).__init__()\n",
        "        self.upsample = nn.Upsample(scale_factor=scale_factor, mode = 'bilinear')\n",
        "        self.conv = nn.Conv2d(in_dim, out_dim, (kernel, kernel), stride=stride, padding=padding)\n",
        "        self.batchnorm = nn.BatchNorm2d(out_dim)\n",
        "    \n",
        "    def forward(self, x):\n",
        "        residual = self.upsample(x)\n",
        "        residual = self.conv(residual)\n",
        "        residual = self.batchnorm(residual)\n",
        "        residual = F.relu(residual)\n",
        "        return residual"
      ],
      "execution_count": 22,
      "outputs": []
    },
    {
      "cell_type": "code",
      "metadata": {
        "id": "ngreFi6QurTO",
        "colab_type": "code",
        "colab": {}
      },
      "source": [
        "# Defining the Segmentor net\n",
        "class Segmentor(nn.Module):\n",
        "    def __init__(self, d_in, d_out):\n",
        "        super(Segmentor, self).__init__()\n",
        "        \n",
        "        # Encoder\n",
        "        self.conv_1 = nn.Conv2d(d_in, 64, kernel_size=4, stride=2, padding=1)\n",
        "        self.conv_2 = ConvBlock(64, 128, 4, 2, 1)\n",
        "        self.conv_3 = ConvBlock(128, 256, 4, 2, 1)\n",
        "        self.conv_4 = ConvBlock(256, 512, 4, 2, 1)\n",
        "        \n",
        "        # Decoder\n",
        "        self.deconv_1 = DeconvBlock(512, 256, 3, 1, padding=1, scale_factor=2)\n",
        "        self.deconv_2 = DeconvBlock(256, 128, 3, 1, padding=1, scale_factor=2)\n",
        "        self.deconv_3 = DeconvBlock(128, 64, 3, 1, padding=1, scale_factor=2)\n",
        "        self.deconv_4 = nn.Sequential(\n",
        "            nn.Upsample(scale_factor=2, mode = 'bilinear'),\n",
        "            nn.Conv2d(64, d_out, 3, 1, padding=1)\n",
        "        )\n",
        "        \n",
        "    \n",
        "    def forward(self, x):\n",
        "        res_1 = self.conv_1(x)\n",
        "        res_1 = F.leaky_relu(res_1)\n",
        "        res_2 = self.conv_2(res_1)\n",
        "        res_3 = self.conv_3(res_2)\n",
        "        res_4 = self.conv_4(res_3)\n",
        "        res_5 = self.deconv_1(res_4)\n",
        "        # The \"add\" connection between corresponding encoder and decoder part\n",
        "        res_5 = res_5 + res_3\n",
        "        res_6 = self.deconv_2(res_5)\n",
        "        # The \"add\" connection between corresponding encoder and decoder part\n",
        "        res_6 = res_6 + res_2\n",
        "        res_7 = self.deconv_3(res_6)\n",
        "        # The \"add\" connection between corresponding encoder and decoder part\n",
        "        res_7 = res_7 + res_1\n",
        "        res_8 = self.deconv_4(res_7)\n",
        "        \n",
        "        return res_8\n",
        "        "
      ],
      "execution_count": 23,
      "outputs": []
    },
    {
      "cell_type": "code",
      "metadata": {
        "id": "HZuNFUyIurT0",
        "colab_type": "code",
        "colab": {}
      },
      "source": [
        "class Critic(nn.Module):\n",
        "    def __init__(self, d_in):\n",
        "        '''\n",
        "        d_in: number of channels in the first convolutional layer.\n",
        "        '''\n",
        "        super(Critic, self).__init__()\n",
        "        self.conv_1 = nn.Conv2d(d_in, 64, kernel_size=4, stride=2, padding=1)\n",
        "        self.conv_2 = ConvBlock(64, 128, 4, 2, 1)\n",
        "        self.conv_3 = ConvBlock(128, 256, 4, 2, 1)\n",
        "         \n",
        "    def forward(self, predicted_seg, gt_seg, input_img):\n",
        "        gt_masked_imgs = gt_seg.unsqueeze(1) * input_img\n",
        "        predicted_masked_imgs = predicted_seg.unsqueeze(1) * input_img\n",
        "        \n",
        "        # pass the predicted_masked_imgs through the net --> requires gradient\n",
        "        res_1 = predicted_masked_imgs\n",
        "        res_2 = self.conv_1(res_1)\n",
        "        res_3 = self.conv_2(res_2)\n",
        "        res_4 = self.conv_3(res_3)\n",
        "        \n",
        "        # Reshaping the resulted images for concatenation\n",
        "        res_1 = res_1.reshape((64,-1))\n",
        "        res_2 = res_2.reshape((64,-1))\n",
        "        res_3 = res_3.reshape((64,-1))\n",
        "        res_4 = res_4.reshape((64,-1))\n",
        "        # Perform concatenation\n",
        "        res_concat = torch.cat((res_1, res_2, res_3, res_4), dim=1)\n",
        "\n",
        "        # Pass ground truth masked images forward through the network\n",
        "        res_gt_1 = gt_masked_imgs\n",
        "        res_gt_2 = self.conv_1(res_gt_1)\n",
        "        res_gt_3 = self.conv_2(res_gt_2)\n",
        "        res_gt_4 = self.conv_3(res_gt_3)\n",
        "        \n",
        "        res_gt_1 = res_gt_1.reshape((64,-1))\n",
        "        res_gt_2 = res_gt_2.reshape((64,-1))\n",
        "        res_gt_3 = res_gt_3.reshape((64,-1))\n",
        "        res_gt_4 = res_gt_4.reshape((64,-1))\n",
        "        # Perform concatenation\n",
        "        res_gt_concat = torch.cat((res_gt_1, res_gt_2, res_gt_3, res_gt_4), dim=1)\n",
        "    \n",
        "\n",
        "        return res_concat - res_gt_concat"
      ],
      "execution_count": 24,
      "outputs": []
    },
    {
      "cell_type": "markdown",
      "metadata": {
        "id": "Retv_FoUrJIQ",
        "colab_type": "text"
      },
      "source": [
        "#### Creating Evaluation Metrics"
      ]
    },
    {
      "cell_type": "code",
      "metadata": {
        "id": "8Icmp5yDdVqm",
        "colab_type": "code",
        "colab": {}
      },
      "source": [
        "def multi_scale_L1_loss(c_output, number_of_critic_scales=4):\n",
        "  '''\n",
        "  The critic_output is the difference between the concatenated vectors(Multi-scale) of the generated segmentation passed through the critic and the ground truth segmentation passed through it.\n",
        "  the result will be a vector of size: (Batch_size*_)\n",
        "  '''\n",
        "\n",
        "  c_output = torch.abs(c_output)\n",
        "  c_output = torch.sum(c_output, dim=1, keepdim=True)\n",
        "  c_output = (1/number_of_critic_scales) * c_output\n",
        "  c_output = torch.mean(c_output)\n",
        "\n",
        "  return c_output"
      ],
      "execution_count": 25,
      "outputs": []
    },
    {
      "cell_type": "code",
      "metadata": {
        "id": "gAik3FU3vUsd",
        "colab_type": "code",
        "colab": {}
      },
      "source": [
        "def dice_loss(s_output, s_target):\n",
        "  '''\n",
        "  s_output: Segmentor's output\n",
        "  s_target: Segmentor's target --> the desired segmentation\n",
        "  '''\n",
        "\n",
        "  num = s_output * s_target\n",
        "  den1 = s_output * s_output\n",
        "  den2 = s_target * s_target\n",
        "\n",
        "  dice = (2 * torch.sum(num))/(torch.sum(den1) + torch.sum(den2))\n",
        "  \n",
        "  # divide by batch size\n",
        "  dice = 1/(s_output.size()[0]) * dice\n",
        "\n",
        "  return 1 - dice"
      ],
      "execution_count": 26,
      "outputs": []
    },
    {
      "cell_type": "code",
      "metadata": {
        "id": "MqKGhoj0rSBX",
        "colab_type": "code",
        "colab": {}
      },
      "source": [
        "def custom_replace(tensor, on_zero, on_non_zero):\n",
        "    # we create a copy of the original tensor, \n",
        "    # because of the way we are replacing them.\n",
        "    res = tensor.clone()\n",
        "    res[tensor==0] = on_zero\n",
        "    res[tensor!=0] = on_non_zero\n",
        "    return res"
      ],
      "execution_count": 27,
      "outputs": []
    },
    {
      "cell_type": "code",
      "metadata": {
        "id": "O7JtTv9wrR9-",
        "colab_type": "code",
        "colab": {}
      },
      "source": [
        "def segmentor_evaluation(s_output, s_target):\n",
        "  \"\"\"\n",
        "  This function creates the batch_averaged FP(flase positive), TP(true positive), FN(flase negative) and TN(true negative) values for the segmented output\n",
        "  THE ELEMENTS OF THE INPUTS ARE ASSUMED TO BE 0 OR 1.\n",
        "  \"\"\"\n",
        "  batch_size = s_output.size()[0]\n",
        "  s_output_inversed = custom_replace(s_output, 1, 0)\n",
        "  s_target_inversed = custom_replace(s_target, 1, 0)\n",
        "  # The true_positive value where s_output and s_target are both 1\n",
        "  TP = (1)/(batch_size) *(torch.sum(s_output * s_target))\n",
        "\n",
        "  # The false_positive value  is where s_output=1 and s_target=0(i.e.  s_target_inversed=1)\n",
        "  FP = (1)/(batch_size) *torch.sum(s_output * s_target_inversed)\n",
        "\n",
        "  # The true_negative value is where s_output=0 (i.e. s_output_inversed=1) and s_target=0 (i.e. s_target_inversed=1)\n",
        "  TN = (1)/(batch_size) *torch.sum(s_output_inversed * s_target_inversed)\n",
        "\n",
        "  # The false_negative is where s_output=0 (i.e. s_output_inversed=1) and s_target=1\n",
        "  FN = (1)/(batch_size) *torch.sum(s_output_inversed * s_target)\n",
        "\n",
        "  return TP, FP, TN, FN"
      ],
      "execution_count": 28,
      "outputs": []
    },
    {
      "cell_type": "code",
      "metadata": {
        "id": "W23yEf6brR7N",
        "colab_type": "code",
        "colab": {}
      },
      "source": [
        "def recall(TP, FN):\n",
        "  '''\n",
        "  Computes the recall value of the model\n",
        "  '''\n",
        "  recall = (TP)/(TP + FN)\n",
        "  return recall"
      ],
      "execution_count": 29,
      "outputs": []
    },
    {
      "cell_type": "code",
      "metadata": {
        "id": "qkzIP_hvrR5K",
        "colab_type": "code",
        "colab": {}
      },
      "source": [
        "def precision(TP, FP):\n",
        "  '''\n",
        "  Computes the precision value of the model\n",
        "  '''\n",
        "  precision = (TP)/(TP + FP)\n",
        "  return precision"
      ],
      "execution_count": 30,
      "outputs": []
    },
    {
      "cell_type": "code",
      "metadata": {
        "id": "GpkwsYDBrR3P",
        "colab_type": "code",
        "colab": {}
      },
      "source": [
        "def false_positive_rate(FP, TN):\n",
        "  '''\n",
        "  Computes the false positive rate of the model\n",
        "  '''\n",
        "  fpr = (FP)/(FP + TN)\n",
        "  return fpr"
      ],
      "execution_count": 31,
      "outputs": []
    },
    {
      "cell_type": "code",
      "metadata": {
        "id": "oq7eumjVrRzm",
        "colab_type": "code",
        "colab": {}
      },
      "source": [
        "def accuracy(TP, FP, TN, FN):\n",
        "  '''\n",
        "  Computes the accuracy of the model\n",
        "  '''\n",
        "  accuracy = (TP+TN)/(TP+FP+TN+FN)\n",
        "  return accuracy"
      ],
      "execution_count": 32,
      "outputs": []
    },
    {
      "cell_type": "markdown",
      "metadata": {
        "id": "-SXsvUlwrf5Y",
        "colab_type": "text"
      },
      "source": [
        "#### Instantiating the model and training it"
      ]
    },
    {
      "cell_type": "code",
      "metadata": {
        "id": "2sgzh1KxrRwB",
        "colab_type": "code",
        "colab": {}
      },
      "source": [
        "# We try to implement the S3-3C network in this project which consists of 1 segmentor generating a 3channel output and 3 critics (one for every labels)\n",
        "# The backpropagated loss will be the average of the 3 C's"
      ],
      "execution_count": 33,
      "outputs": []
    },
    {
      "cell_type": "code",
      "metadata": {
        "id": "39JaH03ZrRsH",
        "colab_type": "code",
        "colab": {}
      },
      "source": [
        "torch.manual_seed(100)\n",
        "# Instantiate the Segmentor(3 output channels) and 3 Critics (1 input channel)\n",
        "segmentor = Segmentor(3,3)\n",
        "critic_1 = Critic(3)\n",
        "critic_2 = Critic(3)\n",
        "critic_3 = Critic(3)\n",
        "\n",
        "if torch.cuda.is_available():\n",
        "  segmentor = segmentor.cuda()\n",
        "  critic_1 = critic_1.cuda()\n",
        "  critic_2 = critic_2.cuda()\n",
        "  critic_3 = critic_3.cuda()"
      ],
      "execution_count": 34,
      "outputs": []
    },
    {
      "cell_type": "code",
      "metadata": {
        "id": "85tsWoeHrjcC",
        "colab_type": "code",
        "colab": {}
      },
      "source": [
        "learning_rate = 0.00002"
      ],
      "execution_count": 35,
      "outputs": []
    },
    {
      "cell_type": "code",
      "metadata": {
        "id": "dU2KKCVfrjef",
        "colab_type": "code",
        "colab": {}
      },
      "source": [
        "torch.manual_seed(42)\n",
        "# Define the optimizers\n",
        "s_parameters = segmentor.parameters()\n",
        "optimizer_s = torch.optim.RMSprop(s_parameters, lr=learning_rate)\n",
        "\n",
        "c_parameters = list(critic_1.parameters()) + list(critic_2.parameters()) + list(critic_3.parameters())\n",
        "optimizer_c = torch.optim.RMSprop(c_parameters, lr=learning_rate)"
      ],
      "execution_count": 36,
      "outputs": []
    },
    {
      "cell_type": "code",
      "metadata": {
        "id": "STWTlDi1rjjk",
        "colab_type": "code",
        "colab": {}
      },
      "source": [
        "# Define the number of epochs\n",
        "epochs = 10"
      ],
      "execution_count": 37,
      "outputs": []
    },
    {
      "cell_type": "code",
      "metadata": {
        "id": "3QzlpQG7rjoQ",
        "colab_type": "code",
        "colab": {}
      },
      "source": [
        "#shutil.rmtree('runs')"
      ],
      "execution_count": 38,
      "outputs": []
    },
    {
      "cell_type": "code",
      "metadata": {
        "id": "ff0_k2ysrjrA",
        "colab_type": "code",
        "colab": {}
      },
      "source": [
        "# Define a binarization threshold (for determining segmentor decision in evaluation phase):\n",
        "threshold = 0.5"
      ],
      "execution_count": 39,
      "outputs": []
    },
    {
      "cell_type": "code",
      "metadata": {
        "id": "Sd6emq9KrjxX",
        "colab_type": "code",
        "colab": {}
      },
      "source": [
        "# Create a directory to log values\n",
        "!mkdir ./runs"
      ],
      "execution_count": 40,
      "outputs": []
    },
    {
      "cell_type": "code",
      "metadata": {
        "id": "0h1OdbParj4U",
        "colab_type": "code",
        "colab": {}
      },
      "source": [
        "# Instantiate a Tensorboard summary writer \n",
        "writer = SummaryWriter(log_dir= \"./runs\")"
      ],
      "execution_count": 41,
      "outputs": []
    },
    {
      "cell_type": "code",
      "metadata": {
        "id": "SOVVrcPIrkAG",
        "colab_type": "code",
        "colab": {
          "base_uri": "https://localhost:8080/",
          "height": 751
        },
        "outputId": "2797c35b-6fb6-4890-8840-78411b6defdf"
      },
      "source": [
        "###################\n",
        "# Training process\n",
        "###################\n",
        "\n",
        "for i in range(epochs):\n",
        "  # Set the model to train mode\n",
        "  segmentor.train()\n",
        "  critic_1.train()\n",
        "  critic_2.train()\n",
        "  critic_3.train()\n",
        "\n",
        "  for j, (input_img, gt_3d) in enumerate(train_loader):\n",
        "    \n",
        "    # Transfer loaded data to GPU if cuda is available\n",
        "    if torch.cuda.is_available:\n",
        "      input_img = input_img.cuda()\n",
        "      gt_3d = gt_3d.cuda()\n",
        "\n",
        "    # \"TRAIN C NET\"\n",
        "    optimizer_c.zero_grad()\n",
        "    # Pass input images forward through the segmentor\n",
        "    output_s = segmentor.forward(input_img)\n",
        "    \n",
        "    # For Critic_1\n",
        "    output_1 = output_s[:,0,:,:]\n",
        "    target_1 = gt_3d[:,0,:,:]\n",
        "    # For Critic_2\n",
        "    output_2 = output_s[:,1,:,:]\n",
        "    target_2 = gt_3d[:,1,:,:]\n",
        "    # For Critic_3\n",
        "    output_3 = output_s[:,2,:,:]\n",
        "    target_3 = gt_3d[:,2,:,:]\n",
        "\n",
        "        \n",
        "\n",
        "    # Forward pass through critic nets\n",
        "    output_c1 = critic_1.forward(predicted_seg= output_1.detach(), gt_seg= target_1.detach(), input_img = input_img.clone())\n",
        "    output_c2 = critic_2.forward(predicted_seg= output_2.detach(), gt_seg= target_2.detach(), input_img = input_img.clone())\n",
        "    output_c3 = critic_3.forward(predicted_seg= output_3.detach(), gt_seg= target_3.detach(), input_img = input_img.clone())\n",
        "    \n",
        "    # Compute loss due to each critic net\n",
        "    loss1 = multi_scale_L1_loss(c_output= output_c1)\n",
        "    loss2 = multi_scale_L1_loss(c_output= output_c2)\n",
        "    loss3 = multi_scale_L1_loss(c_output= output_c3)\n",
        "    \n",
        "    # Compute average Loss\n",
        "    # Multiply by (-1) because we want the critic to MAXIMIZE the loss during training\n",
        "    loss_c = (-1)*(loss1 + loss2 + loss3)/3\n",
        "    \n",
        "    # Backprob & update critic parameters\n",
        "    loss_c.backward()\n",
        "    optimizer_c.step()\n",
        "\n",
        "\n",
        "\n",
        "    # \"TRAIN S NET\"\n",
        "    optimizer_s.zero_grad()\n",
        "    # The same input_img is required to be passed through the same net --> forward pass is not necessary and we can use output_s from before\n",
        "    \n",
        "    # For Critic_1\n",
        "    output_1 = output_s[:,0,:,:]\n",
        "    target_1 = gt_3d[:,0,:,:]\n",
        "    # For Critic_2\n",
        "    output_2 = output_s[:,1,:,:]\n",
        "    target_2 = gt_3d[:,1,:,:]\n",
        "    # For Critic_3\n",
        "    output_3 = output_s[:,2,:,:]\n",
        "    target_3 = gt_3d[:,2,:,:]\n",
        "\n",
        "    # Forward pass through critic nets --> this time we should not use detach\n",
        "    output_c1 = critic_1.forward(predicted_seg= output_1, gt_seg= target_1, input_img = input_img.clone())\n",
        "    output_c2 = critic_2.forward(predicted_seg= output_2, gt_seg= target_2, input_img = input_img.clone())\n",
        "    output_c3 = critic_3.forward(predicted_seg= output_3, gt_seg= target_3, input_img = input_img.clone())\n",
        "    \n",
        "    # Compute loss due to each critic net\n",
        "    loss1 = multi_scale_L1_loss(c_output= output_c1)\n",
        "    loss2 = multi_scale_L1_loss(c_output= output_c2)\n",
        "    loss3 = multi_scale_L1_loss(c_output= output_c3)\n",
        "\n",
        "    # Compute dice loss\n",
        "    loss_dice = dice_loss(output_s, gt_3d)\n",
        "\n",
        "    # Compute average Loss\n",
        "    loss_s = (loss1 + loss2 + loss3)/3 + loss_dice\n",
        "\n",
        "    # Backprob & update segmentor parameters\n",
        "    loss_s.backward()\n",
        "    optimizer_s.step()\n",
        "\n",
        "    # Compute evaluation metrics and save values to tensorboard in the second to last epoch\n",
        "    if  j== len(train_loader)-2 :\n",
        "      # Compute metric values\n",
        "      \n",
        "      TP_trn, FP_trn, TN_trn, FN_trn = segmentor_evaluation(s_output= output_s, s_target= gt_3d)\n",
        "      recall_trn = recall(TP= TP_trn, FN= FN_trn)\n",
        "      precision_trn = precision(TP= TP_trn, FP= FP_trn)\n",
        "      false_positive_rate_trn = false_positive_rate(FP=FP_trn, TN=TN_trn)\n",
        "      accuracy_trn = accuracy(TP=TP_trn, FP=FP_trn, TN=TN_trn, FN=FN_trn)\n",
        "\n",
        "      # Save computed metrics and losses\n",
        "      writer.add_scalar('Recall/train', recall_trn, i+1)\n",
        "      writer.add_scalar('Precision/train', precision_trn, i+1)\n",
        "      writer.add_scalar('False Positive Rate/train', false_positive_rate_trn, i+1)\n",
        "      writer.add_scalar('Accuracy/train', accuracy_trn, i+1)\n",
        "      writer.add_scalar('Dice Loss/train', loss_dice, i+1)\n",
        "      writer.add_scalar('Critic Loss/train', loss_c, i+1)\n",
        "      writer.add_scalar('Segmentor Loss/train', loss_s, i+1)\n",
        "\n",
        "####################\n",
        "# Evaluation process\n",
        "####################\n",
        "\n",
        "  # After each epoch we evaluate the model and save evaluation metrics\n",
        "  with torch.no_grad():\n",
        "    # Set models on evaluation mode\n",
        "    segmentor.eval()\n",
        "    critic_1.eval()\n",
        "    critic_2.eval()\n",
        "    critic_3.eval()\n",
        "\n",
        "    recall_val_avg = 0\n",
        "    precision_val_avg = 0\n",
        "    false_positive_rate_val_avg = 0\n",
        "    accuracy_val_avg = 0\n",
        "    loss_dice_val_avg = 0\n",
        "    loss_c_val_avg = 0\n",
        "    loss_s_val_avg = 0\n",
        "\n",
        "    for j, (input_img_val, gt_3d_val) in enumerate(validation_loader):\n",
        "      # Transfer loaded data to GPU if cuda is available\n",
        "      if torch.cuda.is_available:\n",
        "        input_img_val = input_img_val.cuda()\n",
        "        gt_3d_val = gt_3d_val.cuda()\n",
        "     \n",
        "      \n",
        "      # Pass input_img forward through the segmentor\n",
        "      output_s_val = segmentor.forward(input_img_val)\n",
        "      \n",
        "      # We binarize the output of the segmentor to determine it's decision for every pixel of the input images\n",
        "      output_s_val[output_s_val >= threshold] = 1.0\n",
        "      output_s_val[output_s_val < threshold]  = 0.0\n",
        "\n",
        "      # Now the output of the segmentor can be used to compute the recall, precision, false_positive_rate and accuracy of the segmentor\n",
        "      TP_val, FP_val, TN_val, FN_val = segmentor_evaluation(s_output= output_s_val, s_target= gt_3d_val)\n",
        "      recall_val = recall(TP = TP_val, FN= FN_val)\n",
        "      precision_val = precision(TP= TP_val, FP= FP_val)\n",
        "      false_positive_rate_val = false_positive_rate(FP= FP_val, TN= TN_val)\n",
        "      accuracy_val = accuracy(TP= TP_val, FP= FP_val, TN= TN_val, FN= FN_val)\n",
        "\n",
        "      # For Critic_1\n",
        "      output_1_val = output_s_val[:,0,:,:]\n",
        "      target_1_val = gt_3d_val[:,0,:,:]\n",
        "      # For Critic_2\n",
        "      output_2_val = output_s_val[:,1,:,:]\n",
        "      target_2_val = gt_3d_val[:,1,:,:]\n",
        "      # For Critic_3\n",
        "      output_3_val = output_s_val[:,2,:,:]\n",
        "      target_3_val = gt_3d_val[:,2,:,:]\n",
        "\n",
        "\n",
        "      # Forward pass through critic nets --> this time we should not use detach\n",
        "      output_c1_val = critic_1.forward(predicted_seg= output_1_val, gt_seg= target_1_val, input_img = input_img_val.clone())\n",
        "      output_c2_val = critic_2.forward(predicted_seg= output_2_val, gt_seg= target_2_val, input_img = input_img_val.clone())\n",
        "      output_c3_val = critic_3.forward(predicted_seg= output_3_val, gt_seg= target_3_val, input_img = input_img_val.clone())\n",
        "\n",
        "      # Compute the loss_s, loss_c and loss_dice for the validation data\n",
        "      loss_dice_val = dice_loss(output_s_val, gt_3d_val)\n",
        "\n",
        "      # Compute loss due to each critic net\n",
        "      loss1_val = multi_scale_L1_loss(c_output= output_c1_val)\n",
        "      loss2_val = multi_scale_L1_loss(c_output= output_c2_val)\n",
        "      loss3_val = multi_scale_L1_loss(c_output= output_c3_val)\n",
        "      # Compute the loss_s, loss_c for the validation data\n",
        "      loss_c_val = (-1)*(loss1_val + loss2_val + loss3_val)/3\n",
        "      loss_s_val = (loss1_val + loss2_val + loss3_val)/3 + loss_dice_val\n",
        "\n",
        "      # Save the Computed parameters --> to be averaged\n",
        "      recall_val_avg += recall_val\n",
        "      precision_val_avg += precision_val\n",
        "      false_positive_rate_val_avg += false_positive_rate_val\n",
        "      accuracy_val_avg += accuracy_val\n",
        "      loss_dice_val_avg += loss_dice_val\n",
        "      loss_c_val_avg += loss_c_val\n",
        "      loss_s_val_avg += loss_s_val\n",
        "\n",
        "    # After all the validation data has been passed through the network, compute the average evaluation metrics\n",
        "    recall_val_avg = recall_val_avg / len(validation_loader)\n",
        "    precision_val_avg = precision_val_avg / len(validation_loader)\n",
        "    false_positive_rate_val_avg = false_positive_rate_val_avg / len(validation_loader)\n",
        "    accuracy_val_avg = accuracy_val_avg / len(validation_loader)\n",
        "    loss_dice_val_avg = loss_dice_val_avg / len(validation_loader)\n",
        "    loss_c_val_avg = loss_c_val_avg / len(validation_loader)\n",
        "    loss_s_val_avg = loss_s_val_avg / len(validation_loader)\n",
        "\n",
        "    # Save computed losses and metric values via tensorboard\n",
        "    writer.add_scalar('Recall/validation', recall_val_avg, i+1)\n",
        "    writer.add_scalar('Precision/validation', precision_val_avg, i+1)\n",
        "    writer.add_scalar('False Positive Rate/validation', false_positive_rate_val_avg, i+1)\n",
        "    writer.add_scalar('Accuracy/validation', accuracy_val_avg, i+1)\n",
        "    writer.add_scalar('Dice Loss/validation', loss_dice_val_avg, i+1)\n",
        "    writer.add_scalar('Critic Loss/validation', loss_c_val_avg, i+1)\n",
        "    writer.add_scalar('Segmentor Loss/validation', loss_s_val_avg, i+1)\n",
        "\n",
        "  # Print results at the end of earch epoch\n",
        "  print(f\"==> EPOCH {i+1}({i+1}/{epochs}) Train Dice Loss: {loss_dice:.8f}   Validation Dice Loss: {loss_dice_val:.8f}\")\n",
        "  print(f\"==> EPOCH {i+1}({i+1}/{epochs}) Segmentor Loss:{loss_s:.4f}\")\n",
        "  print(f\"==> EPOCH {i+1}({i+1}/{epochs}) Critic Loss:{loss_c:.4f} \\n\")\n",
        "  \n"
      ],
      "execution_count": 42,
      "outputs": [
        {
          "output_type": "stream",
          "text": [
            "/usr/local/lib/python3.6/dist-packages/torch/nn/functional.py:2973: UserWarning: Default upsampling behavior when mode=bilinear is changed to align_corners=False since 0.4.0. Please specify align_corners=True if the old behavior is desired. See the documentation of nn.Upsample for details.\n",
            "  \"See the documentation of nn.Upsample for details.\".format(mode))\n"
          ],
          "name": "stderr"
        },
        {
          "output_type": "stream",
          "text": [
            "==> EPOCH 1(1/10) Train Dice Loss: 1.00000358   Validation Dice Loss: 0.99919385\n",
            "==> EPOCH 1(1/10) Segmentor Loss:9610171.0000\n",
            "==> EPOCH 1(1/10) Critic Loss:-9608317.0000 \n",
            "\n",
            "==> EPOCH 2(2/10) Train Dice Loss: 1.00002944   Validation Dice Loss: 0.99915594\n",
            "==> EPOCH 2(2/10) Segmentor Loss:7237510.0000\n",
            "==> EPOCH 2(2/10) Critic Loss:-7236241.0000 \n",
            "\n",
            "==> EPOCH 3(3/10) Train Dice Loss: 0.99994254   Validation Dice Loss: 0.99913794\n",
            "==> EPOCH 3(3/10) Segmentor Loss:6702974.0000\n",
            "==> EPOCH 3(3/10) Critic Loss:-6701923.0000 \n",
            "\n",
            "==> EPOCH 4(4/10) Train Dice Loss: 1.00003660   Validation Dice Loss: 0.99913329\n",
            "==> EPOCH 4(4/10) Segmentor Loss:6789569.0000\n",
            "==> EPOCH 4(4/10) Critic Loss:-6788577.5000 \n",
            "\n",
            "==> EPOCH 5(5/10) Train Dice Loss: 0.99989015   Validation Dice Loss: 0.99915493\n",
            "==> EPOCH 5(5/10) Segmentor Loss:6776188.0000\n",
            "==> EPOCH 5(5/10) Critic Loss:-6775256.0000 \n",
            "\n",
            "==> EPOCH 6(6/10) Train Dice Loss: 1.00004518   Validation Dice Loss: 0.99913567\n",
            "==> EPOCH 6(6/10) Segmentor Loss:6875981.0000\n",
            "==> EPOCH 6(6/10) Critic Loss:-6875127.0000 \n",
            "\n",
            "==> EPOCH 7(7/10) Train Dice Loss: 0.99989706   Validation Dice Loss: 0.99915820\n",
            "==> EPOCH 7(7/10) Segmentor Loss:6873507.0000\n",
            "==> EPOCH 7(7/10) Critic Loss:-6872767.5000 \n",
            "\n",
            "==> EPOCH 8(8/10) Train Dice Loss: 1.00002193   Validation Dice Loss: 0.99914223\n",
            "==> EPOCH 8(8/10) Segmentor Loss:7102166.5000\n",
            "==> EPOCH 8(8/10) Critic Loss:-7101397.5000 \n",
            "\n",
            "==> EPOCH 9(9/10) Train Dice Loss: 0.99992049   Validation Dice Loss: 0.99914527\n",
            "==> EPOCH 9(9/10) Segmentor Loss:7162030.5000\n",
            "==> EPOCH 9(9/10) Critic Loss:-7161353.5000 \n",
            "\n",
            "==> EPOCH 10(10/10) Train Dice Loss: 1.00002122   Validation Dice Loss: 0.99914479\n",
            "==> EPOCH 10(10/10) Segmentor Loss:7521772.0000\n",
            "==> EPOCH 10(10/10) Critic Loss:-7521048.0000 \n",
            "\n"
          ],
          "name": "stdout"
        }
      ]
    },
    {
      "cell_type": "code",
      "metadata": {
        "id": "HFwcrqrPrkCj",
        "colab_type": "code",
        "colab": {}
      },
      "source": [
        "# Save model state_dict\n",
        "torch.save(segmentor.state_dict(), '/content/drive/My Drive/segmentor_1.pt')\n",
        "torch.save(critic_1.state_dict(), '/content/drive/My Drive/critic1_1.pt')\n",
        "torch.save(critic_2.state_dict(), '/content/drive/My Drive/critic2_1.pt')\n",
        "torch.save(critic_3.state_dict(), '/content/drive/My Drive/critic3_1.pt')"
      ],
      "execution_count": 43,
      "outputs": []
    },
    {
      "cell_type": "code",
      "metadata": {
        "id": "K5LI81Edrj9l",
        "colab_type": "code",
        "colab": {}
      },
      "source": [
        ""
      ],
      "execution_count": null,
      "outputs": []
    },
    {
      "cell_type": "code",
      "metadata": {
        "id": "4wybUsS6rj7u",
        "colab_type": "code",
        "colab": {
          "base_uri": "https://localhost:8080/",
          "height": 71
        },
        "outputId": "01dfdec6-aaa0-491f-b853-edeca72cf731"
      },
      "source": [
        "# Run on test data\n",
        "with torch.no_grad():\n",
        "  #\n",
        "  for j, (input_img_tst, gt_3d_tst) in enumerate(test_loader):\n",
        "  # Transfer loaded data to GPU if cuda is available\n",
        "    if torch.cuda.is_available:\n",
        "      input_img_tst = input_img_tst.cuda()\n",
        "      gt_3d_tst = gt_3d_tst.cuda()\n",
        "    \n",
        "    # Pass input_img forward through the segmentor\n",
        "    output_s_tst = segmentor.forward(input_img_tst)\n",
        "    \n",
        "    # We binarize the output of the segmentor to determine it's decision for every pixel of the input images\n",
        "    output_s_tst[output_s_tst >= threshold] = 1.0\n",
        "    output_s_tst[output_s_tst < threshold]  = 0.0\n",
        "\n",
        "    # Now the output of the segmentor can be used to compute the recall, precision, false_positive_rate and accuracy of the segmentor\n",
        "    TP_tst, FP_tst, TN_tst, FN_tst = segmentor_evaluation(s_output= output_s_tst, s_target= gt_3d_tst)\n",
        "    recall_tst = recall(TP = TP_tst, FN= FN_tst)\n",
        "    precision_tst = precision(TP= TP_tst, FP= FP_tst)\n",
        "    false_positive_rate_tst = false_positive_rate(FP= FP_tst, TN= TN_tst)\n",
        "    accuracy_tst = accuracy(TP= TP_tst, FP= FP_tst, TN= TN_tst, FN= FN_tst)\n"
      ],
      "execution_count": 45,
      "outputs": [
        {
          "output_type": "stream",
          "text": [
            "/usr/local/lib/python3.6/dist-packages/torch/nn/functional.py:2973: UserWarning: Default upsampling behavior when mode=bilinear is changed to align_corners=False since 0.4.0. Please specify align_corners=True if the old behavior is desired. See the documentation of nn.Upsample for details.\n",
            "  \"See the documentation of nn.Upsample for details.\".format(mode))\n"
          ],
          "name": "stderr"
        }
      ]
    },
    {
      "cell_type": "code",
      "metadata": {
        "id": "kujESKaorj21",
        "colab_type": "code",
        "colab": {
          "base_uri": "https://localhost:8080/",
          "height": 34
        },
        "outputId": "5890c2ac-2380-45e6-a3c9-623bacbdd5ba"
      },
      "source": [
        "recall_tst"
      ],
      "execution_count": 46,
      "outputs": [
        {
          "output_type": "execute_result",
          "data": {
            "text/plain": [
              "tensor(0.3774, device='cuda:0')"
            ]
          },
          "metadata": {
            "tags": []
          },
          "execution_count": 46
        }
      ]
    },
    {
      "cell_type": "code",
      "metadata": {
        "id": "qi-rk06EjmXA",
        "colab_type": "code",
        "colab": {
          "base_uri": "https://localhost:8080/",
          "height": 34
        },
        "outputId": "c055f2cd-01a2-45e7-e76c-c3b42ce2b7e7"
      },
      "source": [
        "precision_tst"
      ],
      "execution_count": 47,
      "outputs": [
        {
          "output_type": "execute_result",
          "data": {
            "text/plain": [
              "tensor(0.0235, device='cuda:0')"
            ]
          },
          "metadata": {
            "tags": []
          },
          "execution_count": 47
        }
      ]
    },
    {
      "cell_type": "code",
      "metadata": {
        "id": "EvUGB8-WjmtP",
        "colab_type": "code",
        "colab": {}
      },
      "source": [
        ""
      ],
      "execution_count": null,
      "outputs": []
    },
    {
      "cell_type": "code",
      "metadata": {
        "id": "ETRpwrzhjmzW",
        "colab_type": "code",
        "colab": {}
      },
      "source": [
        ""
      ],
      "execution_count": null,
      "outputs": []
    },
    {
      "cell_type": "code",
      "metadata": {
        "id": "wp1ksNUHjmwS",
        "colab_type": "code",
        "colab": {}
      },
      "source": [
        ""
      ],
      "execution_count": null,
      "outputs": []
    },
    {
      "cell_type": "code",
      "metadata": {
        "id": "khFgyFv8jmqA",
        "colab_type": "code",
        "colab": {}
      },
      "source": [
        ""
      ],
      "execution_count": null,
      "outputs": []
    },
    {
      "cell_type": "code",
      "metadata": {
        "id": "aKeE4zQKjmZs",
        "colab_type": "code",
        "colab": {}
      },
      "source": [
        ""
      ],
      "execution_count": null,
      "outputs": []
    },
    {
      "cell_type": "code",
      "metadata": {
        "id": "yIdAcDd_jl3D",
        "colab_type": "code",
        "colab": {}
      },
      "source": [
        ""
      ],
      "execution_count": null,
      "outputs": []
    },
    {
      "cell_type": "code",
      "metadata": {
        "id": "RyIEEHVH4Sav",
        "colab_type": "code",
        "colab": {
          "base_uri": "https://localhost:8080/",
          "height": 34
        },
        "outputId": "ec3a652d-853c-4982-ddb9-92d94d78b015"
      },
      "source": [
        "len(validation_loader)"
      ],
      "execution_count": null,
      "outputs": [
        {
          "output_type": "execute_result",
          "data": {
            "text/plain": [
              "111"
            ]
          },
          "metadata": {
            "tags": []
          },
          "execution_count": 38
        }
      ]
    },
    {
      "cell_type": "code",
      "metadata": {
        "id": "GwSolI1z85lD",
        "colab_type": "code",
        "colab": {
          "base_uri": "https://localhost:8080/",
          "height": 34
        },
        "outputId": "c992bcd3-1061-41a9-a455-082b5d8540ff"
      },
      "source": [
        "len(val_dataset)"
      ],
      "execution_count": null,
      "outputs": [
        {
          "output_type": "execute_result",
          "data": {
            "text/plain": [
              "7085"
            ]
          },
          "metadata": {
            "tags": []
          },
          "execution_count": 39
        }
      ]
    },
    {
      "cell_type": "code",
      "metadata": {
        "id": "T795mFf588cA",
        "colab_type": "code",
        "colab": {}
      },
      "source": [
        ""
      ],
      "execution_count": null,
      "outputs": []
    }
  ]
}